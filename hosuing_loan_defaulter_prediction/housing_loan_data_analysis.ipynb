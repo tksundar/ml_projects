{
  "metadata": {
    "kernelspec": {
      "name": "python3",
      "display_name": "Python 3"
    },
    "language_info": {
      "name": "python",
      "version": "3.10.12",
      "mimetype": "text/x-python",
      "codemirror_mode": {
        "name": "ipython",
        "version": 3
      },
      "pygments_lexer": "ipython3",
      "nbconvert_exporter": "python",
      "file_extension": ".py"
    },
    "accelerator": "GPU",
    "colab": {
      "gpuType": "T4",
      "provenance": [],
      "toc_visible": true
    },
    "kaggle": {
      "accelerator": "nvidiaTeslaT4",
      "dataSources": [
        {
          "sourceId": 11236114,
          "sourceType": "datasetVersion",
          "datasetId": 7019347
        }
      ],
      "dockerImageVersionId": 30919,
      "isInternetEnabled": true,
      "language": "python",
      "sourceType": "notebook",
      "isGpuEnabled": true
    }
  },
  "nbformat_minor": 0,
  "nbformat": 4,
  "cells": [
    {
      "cell_type": "markdown",
      "source": [
        "Problem Statement:  \n",
        "For a safe and secure lending experience, it's important to analyze the past data. In this project, you have to build a deep learning model to predict the chance of default for future loans using historical data. As you will see, this dataset is highly imbalanced and includes a lot of features that make this problem more challenging.\n",
        "\n",
        "\n",
        "**Objective:**\n",
        "\n",
        "Create a model that predicts whether or not an applicant will be able to repay a loan using historical data\n",
        "\n",
        "\n",
        "**Domain:** Finance\n",
        "\n",
        "**Analysis to be done:**\n",
        "\n",
        "Perform data preprocessing and build a deep learning prediction model\n",
        "\n",
        "**Steps to be done**\n",
        "\n",
        "1.   Load the dataset that is given to youList item\n",
        "2.  Check for null values in the dataset\n",
        "3.   Print the percentage of default to a payer of the dataset for the TARGET column\n",
        "4.  Balance the dataset if the data is imbalanced\n",
        "5.  Plot the balanced or imbalanced data\n",
        "6.  \tEncode the columns that are required for the model\n",
        "7. Calculate sensitivity as a metric\n",
        "8.   Calculate the area under the receiver operating characteristics curve\n",
        "\n",
        "\n",
        "\n",
        "\n",
        "\n",
        "\n",
        "\n"
      ],
      "metadata": {
        "id": "s7BUEFauhvZx"
      }
    },
    {
      "cell_type": "markdown",
      "source": [
        "#Housing Loan Defaulter Prediction"
      ],
      "metadata": {
        "id": "G9yt-o65u2pu"
      }
    },
    {
      "cell_type": "code",
      "source": [
        "import os\n",
        "\n",
        "train_data_kaggle = '/kaggle/input/housing-loan-data/loan_data.csv'\n",
        "train_data_google = '/content/drive/MyDrive/ML/loan_data.csv'\n",
        "\n",
        "train_data = train_data_google\n",
        "\n",
        "if os.path.exists(train_data_kaggle):\n",
        "   train_data = train_data_kaggle\n",
        "   print(f'Using Kaggle Data at {train_data}')\n",
        "else:\n",
        "    from google.colab import drive\n",
        "    drive.mount('/content/drive')\n",
        "    print(f'Using google drive Data at {train_data_google}')\n",
        ""
      ],
      "metadata": {
        "trusted": true,
        "execution": {
          "iopub.status.busy": "2025-04-01T08:27:34.976919Z",
          "iopub.execute_input": "2025-04-01T08:27:34.977208Z",
          "iopub.status.idle": "2025-04-01T08:27:35.011925Z",
          "shell.execute_reply.started": "2025-04-01T08:27:34.977184Z",
          "shell.execute_reply": "2025-04-01T08:27:35.011041Z"
        },
        "colab": {
          "base_uri": "https://localhost:8080/"
        },
        "id": "TKvQyHuee6b6",
        "outputId": "1c17ef34-3009-4b16-fcc1-7e3982523140"
      },
      "outputs": [
        {
          "output_type": "stream",
          "name": "stdout",
          "text": [
            "Mounted at /content/drive\n",
            "Using google drive Data at /content/drive/MyDrive/ML/loan_data.csv\n"
          ]
        }
      ],
      "execution_count": 2
    },
    {
      "cell_type": "markdown",
      "source": [
        "**Load Dataset**"
      ],
      "metadata": {
        "id": "0TcpsD8XgfYC"
      }
    },
    {
      "cell_type": "markdown",
      "source": [
        "##Load Dataset"
      ],
      "metadata": {
        "id": "IbMB33CivLr0"
      }
    },
    {
      "cell_type": "code",
      "source": [
        "import pandas as pd\n",
        "import matplotlib.pyplot as plt\n",
        "import seaborn as sns\n",
        "import warnings\n",
        "warnings.filterwarnings('ignore')\n",
        "\n",
        "loan_data = pd.read_csv(train_data)\n",
        "print(loan_data.shape)\n"
      ],
      "metadata": {
        "colab": {
          "base_uri": "https://localhost:8080/"
        },
        "id": "grbrguvBqWzi",
        "outputId": "f35b077e-2730-4d39-b125-15f58eb681e9",
        "trusted": true,
        "execution": {
          "iopub.status.busy": "2025-04-01T08:27:35.013002Z",
          "iopub.execute_input": "2025-04-01T08:27:35.013281Z",
          "iopub.status.idle": "2025-04-01T08:27:41.232019Z",
          "shell.execute_reply.started": "2025-04-01T08:27:35.013251Z",
          "shell.execute_reply": "2025-04-01T08:27:41.231255Z"
        }
      },
      "outputs": [
        {
          "output_type": "stream",
          "name": "stdout",
          "text": [
            "(307511, 122)\n"
          ]
        }
      ],
      "execution_count": 3
    },
    {
      "cell_type": "markdown",
      "source": [
        "Data is 122 columns, but we may not need all those columns. We will first extract features that have a meaningful correlation with TARGET and then check of null values and outliers for those features\n",
        "\n"
      ],
      "metadata": {
        "id": "fzkwi5pYmEys"
      }
    },
    {
      "cell_type": "markdown",
      "source": [
        "##Get features with correlation > 0.03 with TARGET"
      ],
      "metadata": {
        "id": "2mBV3W2svdu-"
      }
    },
    {
      "cell_type": "code",
      "source": [
        "corr = loan_data.select_dtypes(include='number').corr()\n",
        "correlations = corr.abs().sort_values('TARGET',ascending=False).iloc[:,[1]]\n",
        "corr = correlations.loc[correlations.TARGET > 0.033]\n",
        "print(corr)"
      ],
      "metadata": {
        "colab": {
          "base_uri": "https://localhost:8080/"
        },
        "id": "GMKW2ApCl-N6",
        "outputId": "7cb4cb13-f700-4483-f2ea-e80175d0fbf6",
        "trusted": true,
        "execution": {
          "iopub.status.busy": "2025-04-01T08:27:41.233435Z",
          "iopub.execute_input": "2025-04-01T08:27:41.233665Z",
          "iopub.status.idle": "2025-04-01T08:27:50.702206Z",
          "shell.execute_reply.started": "2025-04-01T08:27:41.233645Z",
          "shell.execute_reply": "2025-04-01T08:27:50.701357Z"
        }
      },
      "outputs": [
        {
          "output_type": "stream",
          "name": "stdout",
          "text": [
            "                               TARGET\n",
            "TARGET                       1.000000\n",
            "EXT_SOURCE_3                 0.178919\n",
            "EXT_SOURCE_2                 0.160472\n",
            "EXT_SOURCE_1                 0.155317\n",
            "DAYS_BIRTH                   0.078239\n",
            "REGION_RATING_CLIENT_W_CITY  0.060893\n",
            "REGION_RATING_CLIENT         0.058899\n",
            "DAYS_LAST_PHONE_CHANGE       0.055218\n",
            "DAYS_ID_PUBLISH              0.051457\n",
            "REG_CITY_NOT_WORK_CITY       0.050994\n",
            "FLAG_EMP_PHONE               0.045982\n",
            "DAYS_EMPLOYED                0.044932\n",
            "REG_CITY_NOT_LIVE_CITY       0.044395\n",
            "FLAG_DOCUMENT_3              0.044346\n",
            "FLOORSMAX_AVG                0.044003\n",
            "FLOORSMAX_MEDI               0.043768\n",
            "FLOORSMAX_MODE               0.043226\n",
            "DAYS_REGISTRATION            0.041975\n",
            "AMT_GOODS_PRICE              0.039645\n",
            "OWN_CAR_AGE                  0.037612\n",
            "REGION_POPULATION_RELATIVE   0.037227\n",
            "ELEVATORS_AVG                0.034199\n",
            "ELEVATORS_MEDI               0.033863\n",
            "FLOORSMIN_AVG                0.033614\n",
            "FLOORSMIN_MEDI               0.033394\n"
          ]
        }
      ],
      "execution_count": 4
    },
    {
      "cell_type": "markdown",
      "source": [
        "Create a new dataset with the above features"
      ],
      "metadata": {
        "id": "hc0ULmVhhviD"
      }
    },
    {
      "cell_type": "markdown",
      "source": [
        "##Create a new Dataset including only high correlation features"
      ],
      "metadata": {
        "id": "yhWFawSJvqH1"
      }
    },
    {
      "cell_type": "code",
      "source": [
        "features = corr.index\n",
        "data = loan_data[features]\n",
        "print(data.shape)\n",
        "#check null values\n",
        "print(data.isnull().sum())\n"
      ],
      "metadata": {
        "colab": {
          "base_uri": "https://localhost:8080/"
        },
        "id": "I7SNlq1MnIjC",
        "outputId": "6f946269-2c93-4206-9892-935c22a0be8c",
        "trusted": true,
        "execution": {
          "iopub.status.busy": "2025-04-01T08:27:50.703316Z",
          "iopub.execute_input": "2025-04-01T08:27:50.703625Z",
          "iopub.status.idle": "2025-04-01T08:27:50.780586Z",
          "shell.execute_reply.started": "2025-04-01T08:27:50.703602Z",
          "shell.execute_reply": "2025-04-01T08:27:50.779745Z"
        }
      },
      "outputs": [
        {
          "output_type": "stream",
          "name": "stdout",
          "text": [
            "(307511, 25)\n",
            "TARGET                              0\n",
            "EXT_SOURCE_3                    60965\n",
            "EXT_SOURCE_2                      660\n",
            "EXT_SOURCE_1                   173378\n",
            "DAYS_BIRTH                          0\n",
            "REGION_RATING_CLIENT_W_CITY         0\n",
            "REGION_RATING_CLIENT                0\n",
            "DAYS_LAST_PHONE_CHANGE              1\n",
            "DAYS_ID_PUBLISH                     0\n",
            "REG_CITY_NOT_WORK_CITY              0\n",
            "FLAG_EMP_PHONE                      0\n",
            "DAYS_EMPLOYED                       0\n",
            "REG_CITY_NOT_LIVE_CITY              0\n",
            "FLAG_DOCUMENT_3                     0\n",
            "FLOORSMAX_AVG                  153020\n",
            "FLOORSMAX_MEDI                 153020\n",
            "FLOORSMAX_MODE                 153020\n",
            "DAYS_REGISTRATION                   0\n",
            "AMT_GOODS_PRICE                   278\n",
            "OWN_CAR_AGE                    202929\n",
            "REGION_POPULATION_RELATIVE          0\n",
            "ELEVATORS_AVG                  163891\n",
            "ELEVATORS_MEDI                 163891\n",
            "FLOORSMIN_AVG                  208642\n",
            "FLOORSMIN_MEDI                 208642\n",
            "dtype: int64\n"
          ]
        }
      ],
      "execution_count": 5
    },
    {
      "cell_type": "markdown",
      "source": [
        "##Plot Distributions"
      ],
      "metadata": {
        "id": "kfPLq1z6v0ia"
      }
    },
    {
      "cell_type": "code",
      "source": [
        "columns = []\n",
        "# lets look at the distributions of columns that have null values\n",
        "for col in data.columns:\n",
        "  if data[col].isnull().any():\n",
        "    columns.append(col)\n",
        "\n",
        "data[columns].hist(figsize=(16,14),layout=(8,4))\n",
        "plt.tight_layout()\n",
        "plt.show()\n"
      ],
      "metadata": {
        "colab": {
          "base_uri": "https://localhost:8080/",
          "height": 717
        },
        "id": "cyWOj0ISvf0X",
        "outputId": "b90382f2-fb91-430b-e0bf-857b708df9bf",
        "trusted": true,
        "execution": {
          "iopub.status.busy": "2025-04-01T08:27:50.781467Z",
          "iopub.execute_input": "2025-04-01T08:27:50.781754Z",
          "iopub.status.idle": "2025-04-01T08:27:53.452803Z",
          "shell.execute_reply.started": "2025-04-01T08:27:50.781719Z",
          "shell.execute_reply": "2025-04-01T08:27:53.451830Z"
        }
      },
      "outputs": [
        {
          "output_type": "display_data",
          "data": {
            "text/plain": [
              "<Figure size 1600x1400 with 32 Axes>"
            ],
            "image/png": "[encoded data removed]"
          },
          "metadata": {}
        }
      ],
      "execution_count": 6
    },
    {
      "cell_type": "markdown",
      "source": [
        "##Check for outliers"
      ],
      "metadata": {
        "id": "2jC8TQH4ERc0"
      }
    },
    {
      "cell_type": "code",
      "source": [
        "data[columns].plot(kind='box',\n",
        "                       subplots=True,\n",
        "                       layout=(8,4),\n",
        "                       sharex=False,\n",
        "                       sharey=False,\n",
        "                       figsize=(16,14),\n",
        "                       title='Box Plot for each input feature')\n",
        "plt.tight_layout()\n",
        "plt.show()"
      ],
      "metadata": {
        "colab": {
          "base_uri": "https://localhost:8080/",
          "height": 724
        },
        "id": "bMx6blAlCjKu",
        "outputId": "782e9b63-81be-432a-9c4d-e053d1a78ea3",
        "trusted": true,
        "execution": {
          "iopub.status.busy": "2025-04-01T08:27:53.453851Z",
          "iopub.execute_input": "2025-04-01T08:27:53.454219Z",
          "iopub.status.idle": "2025-04-01T08:27:55.259737Z",
          "shell.execute_reply.started": "2025-04-01T08:27:53.454185Z",
          "shell.execute_reply": "2025-04-01T08:27:55.258849Z"
        }
      },
      "outputs": [
        {
          "output_type": "display_data",
          "data": {
            "text/plain": [
              "<Figure size 1600x1400 with 32 Axes>"
            ],
            "image/png": "[encoded data removed]"
          },
          "metadata": {}
        }
      ],
      "execution_count": 7
    },
    {
      "cell_type": "markdown",
      "source": [
        "###Replace outliers and null values with median"
      ],
      "metadata": {
        "id": "QxO-sZsOF9dk"
      }
    },
    {
      "cell_type": "code",
      "source": [
        "import numpy as np\n",
        "\n",
        "def detect_outliers_iqr(data):\n",
        "    data = sorted(data)\n",
        "    q1 = np.percentile(data, 25)\n",
        "    q3 = np.percentile(data, 75)\n",
        "    IQR = q3 - q1\n",
        "    lwr_bound = q1 - (1.5 * IQR)\n",
        "    upr_bound = q3 + (1.5 * IQR)\n",
        "    outliers = []\n",
        "    for i in data:\n",
        "        if i < lwr_bound or i > upr_bound:\n",
        "            outliers.append(i)\n",
        "    return outliers\n",
        "\n",
        "\n",
        "def remove_outliers(data, outlier_columns):\n",
        "\n",
        "  for column in outlier_columns:\n",
        "      print('imputing values for column ',column)\n",
        "      array = data[column]\n",
        "      outliers = detect_outliers_iqr(array)\n",
        "      value = np.median(array)\n",
        "      for i in outliers:\n",
        "          # for every i(outlier) in array , replace it by value else retain the same array element\n",
        "          array = np.where(array == i, value, array)\n",
        "          data[column] = np.asarray(array)\n",
        "\n",
        "  return data\n",
        "\n",
        "# Fill null values\n",
        "for column in columns:\n",
        "  data[column].fillna(data[column].median(),inplace=True)\n",
        "\n",
        "# null values replaced\n",
        "print('Are null values present? -> ',data.isnull().sum().any())\n",
        "\n",
        "# Remove outliers\n",
        "new_data = remove_outliers(data, columns)\n"
      ],
      "metadata": {
        "colab": {
          "base_uri": "https://localhost:8080/"
        },
        "id": "e0NIfGvYCIvl",
        "outputId": "96678a11-376d-47e4-8d50-5f93da66fd4a",
        "trusted": true,
        "execution": {
          "iopub.status.busy": "2025-04-01T08:27:55.260785Z",
          "iopub.execute_input": "2025-04-01T08:27:55.261146Z"
        }
      },
      "outputs": [
        {
          "output_type": "stream",
          "name": "stdout",
          "text": [
            "Are null values present? ->  False\n",
            "imputing values for column  EXT_SOURCE_3\n",
            "imputing values for column  EXT_SOURCE_2\n",
            "imputing values for column  EXT_SOURCE_1\n",
            "imputing values for column  DAYS_LAST_PHONE_CHANGE\n",
            "imputing values for column  FLOORSMAX_AVG\n",
            "imputing values for column  FLOORSMAX_MEDI\n",
            "imputing values for column  FLOORSMAX_MODE\n",
            "imputing values for column  AMT_GOODS_PRICE\n",
            "imputing values for column  OWN_CAR_AGE\n",
            "imputing values for column  ELEVATORS_AVG\n",
            "imputing values for column  ELEVATORS_MEDI\n",
            "imputing values for column  FLOORSMIN_AVG\n",
            "imputing values for column  FLOORSMIN_MEDI\n"
          ]
        }
      ],
      "execution_count": 8
    },
    {
      "cell_type": "markdown",
      "source": [
        "###Re-plot the distributions to see outliers"
      ],
      "metadata": {
        "id": "Po50rk27zoVj"
      }
    },
    {
      "cell_type": "code",
      "source": [
        "data[columns].plot(kind='box',\n",
        "                       subplots=True,\n",
        "                       layout=(8,4),\n",
        "                       sharex=False,\n",
        "                       sharey=False,\n",
        "                       figsize=(16,14),\n",
        "                       title='Box Plot for each input variable')\n",
        "plt.tight_layout()\n",
        "plt.show()"
      ],
      "metadata": {
        "colab": {
          "base_uri": "https://localhost:8080/",
          "height": 722
        },
        "id": "hco1D3IAYnXa",
        "outputId": "b2bb2d19-685b-4c19-d477-da48d4ece09c",
        "trusted": true
      },
      "outputs": [
        {
          "output_type": "display_data",
          "data": {
            "text/plain": [
              "<Figure size 1600x1400 with 32 Axes>"
            ],
            "image/png": "[encoded data removed]"
          },
          "metadata": {}
        }
      ],
      "execution_count": 9
    },
    {
      "cell_type": "code",
      "source": [
        "print(data.info())"
      ],
      "metadata": {
        "colab": {
          "base_uri": "https://localhost:8080/"
        },
        "id": "jgZJnYkOubv9",
        "outputId": "7b046093-353b-446b-ac0f-0f4eacfb4b91",
        "trusted": true
      },
      "outputs": [
        {
          "output_type": "stream",
          "name": "stdout",
          "text": [
            "<class 'pandas.core.frame.DataFrame'>\n",
            "RangeIndex: 307511 entries, 0 to 307510\n",
            "Data columns (total 25 columns):\n",
            " #   Column                       Non-Null Count   Dtype  \n",
            "---  ------                       --------------   -----  \n",
            " 0   TARGET                       307511 non-null  int64  \n",
            " 1   EXT_SOURCE_3                 307511 non-null  float64\n",
            " 2   EXT_SOURCE_2                 307511 non-null  float64\n",
            " 3   EXT_SOURCE_1                 307511 non-null  float64\n",
            " 4   DAYS_BIRTH                   307511 non-null  int64  \n",
            " 5   REGION_RATING_CLIENT_W_CITY  307511 non-null  int64  \n",
            " 6   REGION_RATING_CLIENT         307511 non-null  int64  \n",
            " 7   DAYS_LAST_PHONE_CHANGE       307511 non-null  float64\n",
            " 8   DAYS_ID_PUBLISH              307511 non-null  int64  \n",
            " 9   REG_CITY_NOT_WORK_CITY       307511 non-null  int64  \n",
            " 10  FLAG_EMP_PHONE               307511 non-null  int64  \n",
            " 11  DAYS_EMPLOYED                307511 non-null  int64  \n",
            " 12  REG_CITY_NOT_LIVE_CITY       307511 non-null  int64  \n",
            " 13  FLAG_DOCUMENT_3              307511 non-null  int64  \n",
            " 14  FLOORSMAX_AVG                307511 non-null  float64\n",
            " 15  FLOORSMAX_MEDI               307511 non-null  float64\n",
            " 16  FLOORSMAX_MODE               307511 non-null  float64\n",
            " 17  DAYS_REGISTRATION            307511 non-null  float64\n",
            " 18  AMT_GOODS_PRICE              307511 non-null  float64\n",
            " 19  OWN_CAR_AGE                  307511 non-null  float64\n",
            " 20  REGION_POPULATION_RELATIVE   307511 non-null  float64\n",
            " 21  ELEVATORS_AVG                307511 non-null  float64\n",
            " 22  ELEVATORS_MEDI               307511 non-null  float64\n",
            " 23  FLOORSMIN_AVG                307511 non-null  float64\n",
            " 24  FLOORSMIN_MEDI               307511 non-null  float64\n",
            "dtypes: float64(15), int64(10)\n",
            "memory usage: 58.7 MB\n",
            "None\n"
          ]
        }
      ],
      "execution_count": 10
    },
    {
      "cell_type": "markdown",
      "source": [
        "No column needs to be encoded"
      ],
      "metadata": {
        "id": "kZQwX0b2ulCb"
      }
    },
    {
      "cell_type": "markdown",
      "source": [
        "##Percentage of defaulters"
      ],
      "metadata": {
        "id": "BNUCiGgriOER"
      }
    },
    {
      "cell_type": "code",
      "source": [
        "total_borrowers = data.shape[0]\n",
        "value_counts_1 = pd.DataFrame(data[new_data['TARGET'] == 1].groupby('TARGET').size()).reset_index()\n",
        "defaulted = value_counts_1[0].to_list().pop()\n",
        "print(f'Percentage defaulted is  {100*defaulted/total_borrowers:.2f}')"
      ],
      "metadata": {
        "colab": {
          "base_uri": "https://localhost:8080/"
        },
        "id": "-jRL7BejivKS",
        "outputId": "3c9a2977-257f-450d-e621-fde83073fad1",
        "trusted": true
      },
      "outputs": [
        {
          "output_type": "stream",
          "name": "stdout",
          "text": [
            "Percentage defaulted is  8.07\n"
          ]
        }
      ],
      "execution_count": 11
    },
    {
      "cell_type": "markdown",
      "source": [
        "##Adding an Age column from DAYS_BIRTH column"
      ],
      "metadata": {
        "id": "4wZ3u-KpZGvf"
      }
    },
    {
      "cell_type": "code",
      "source": [
        "def preprocess(data):\n",
        "  data['AGE'] = data['DAYS_BIRTH'].apply(lambda x: int(abs(x)/365))\n",
        "  new_data = data.drop('DAYS_BIRTH',axis=1)\n",
        "  return new_data\n",
        "new_data = preprocess(data)\n",
        "new_data.head()"
      ],
      "metadata": {
        "colab": {
          "base_uri": "https://localhost:8080/",
          "height": 256
        },
        "id": "oMd-96ICsTS-",
        "outputId": "d069a549-3726-4e55-8d9e-13fc3b5e4eca",
        "trusted": true
      },
      "outputs": [
        {
          "output_type": "execute_result",
          "data": {
            "text/plain": [
              "   TARGET  EXT_SOURCE_3  EXT_SOURCE_2  EXT_SOURCE_1  \\\n",
              "0       1      0.139376      0.262949      0.505998   \n",
              "1       0      0.535276      0.622246      0.505998   \n",
              "2       0      0.729567      0.555912      0.505998   \n",
              "3       0      0.535276      0.650442      0.505998   \n",
              "4       0      0.535276      0.322738      0.505998   \n",
              "\n",
              "   REGION_RATING_CLIENT_W_CITY  REGION_RATING_CLIENT  DAYS_LAST_PHONE_CHANGE  \\\n",
              "0                            2                     2                 -1134.0   \n",
              "1                            1                     1                  -828.0   \n",
              "2                            2                     2                  -815.0   \n",
              "3                            2                     2                  -617.0   \n",
              "4                            2                     2                 -1106.0   \n",
              "\n",
              "   DAYS_ID_PUBLISH  REG_CITY_NOT_WORK_CITY  FLAG_EMP_PHONE  ...  \\\n",
              "0            -2120                       0               1  ...   \n",
              "1             -291                       0               1  ...   \n",
              "2            -2531                       0               1  ...   \n",
              "3            -2437                       0               1  ...   \n",
              "4            -3458                       1               1  ...   \n",
              "\n",
              "   FLOORSMAX_MODE  DAYS_REGISTRATION  AMT_GOODS_PRICE  OWN_CAR_AGE  \\\n",
              "0          0.1667            -3648.0         351000.0          9.0   \n",
              "1          0.1667            -1186.0        1129500.0          9.0   \n",
              "2          0.1667            -4260.0         135000.0          9.0   \n",
              "3          0.1667            -9833.0         297000.0          9.0   \n",
              "4          0.1667            -4311.0         513000.0          9.0   \n",
              "\n",
              "   REGION_POPULATION_RELATIVE  ELEVATORS_AVG  ELEVATORS_MEDI  FLOORSMIN_AVG  \\\n",
              "0                    0.018801            0.0             0.0         0.2083   \n",
              "1                    0.003541            0.0             0.0         0.2083   \n",
              "2                    0.010032            0.0             0.0         0.2083   \n",
              "3                    0.008019            0.0             0.0         0.2083   \n",
              "4                    0.028663            0.0             0.0         0.2083   \n",
              "\n",
              "   FLOORSMIN_MEDI  AGE  \n",
              "0          0.2083   25  \n",
              "1          0.2083   45  \n",
              "2          0.2083   52  \n",
              "3          0.2083   52  \n",
              "4          0.2083   54  \n",
              "\n",
              "[5 rows x 25 columns]"
            ],
            "text/html": [
              "\n",
              "  <div id=\"df-157529df-04a8-4b23-b540-0c64dd88a56e\" class=\"colab-df-container\">\n",
              "    <div>\n",
              "<style scoped>\n",
              "    .dataframe tbody tr th:only-of-type {\n",
              "        vertical-align: middle;\n",
              "    }\n",
              "\n",
              "    .dataframe tbody tr th {\n",
              "        vertical-align: top;\n",
              "    }\n",
              "\n",
              "    .dataframe thead th {\n",
              "        text-align: right;\n",
              "    }\n",
              "</style>\n",
              "<table border=\"1\" class=\"dataframe\">\n",
              "  <thead>\n",
              "    <tr style=\"text-align: right;\">\n",
              "      <th></th>\n",
              "      <th>TARGET</th>\n",
              "      <th>EXT_SOURCE_3</th>\n",
              "      <th>EXT_SOURCE_2</th>\n",
              "      <th>EXT_SOURCE_1</th>\n",
              "      <th>REGION_RATING_CLIENT_W_CITY</th>\n",
              "      <th>REGION_RATING_CLIENT</th>\n",
              "      <th>DAYS_LAST_PHONE_CHANGE</th>\n",
              "      <th>DAYS_ID_PUBLISH</th>\n",
              "      <th>REG_CITY_NOT_WORK_CITY</th>\n",
              "      <th>FLAG_EMP_PHONE</th>\n",
              "      <th>...</th>\n",
              "      <th>FLOORSMAX_MODE</th>\n",
              "      <th>DAYS_REGISTRATION</th>\n",
              "      <th>AMT_GOODS_PRICE</th>\n",
              "      <th>OWN_CAR_AGE</th>\n",
              "      <th>REGION_POPULATION_RELATIVE</th>\n",
              "      <th>ELEVATORS_AVG</th>\n",
              "      <th>ELEVATORS_MEDI</th>\n",
              "      <th>FLOORSMIN_AVG</th>\n",
              "      <th>FLOORSMIN_MEDI</th>\n",
              "      <th>AGE</th>\n",
              "    </tr>\n",
              "  </thead>\n",
              "  <tbody>\n",
              "    <tr>\n",
              "      <th>0</th>\n",
              "      <td>1</td>\n",
              "      <td>0.139376</td>\n",
              "      <td>0.262949</td>\n",
              "      <td>0.505998</td>\n",
              "      <td>2</td>\n",
              "      <td>2</td>\n",
              "      <td>-1134.0</td>\n",
              "      <td>-2120</td>\n",
              "      <td>0</td>\n",
              "      <td>1</td>\n",
              "      <td>...</td>\n",
              "      <td>0.1667</td>\n",
              "      <td>-3648.0</td>\n",
              "      <td>351000.0</td>\n",
              "      <td>9.0</td>\n",
              "      <td>0.018801</td>\n",
              "      <td>0.0</td>\n",
              "      <td>0.0</td>\n",
              "      <td>0.2083</td>\n",
              "      <td>0.2083</td>\n",
              "      <td>25</td>\n",
              "    </tr>\n",
              "    <tr>\n",
              "      <th>1</th>\n",
              "      <td>0</td>\n",
              "      <td>0.535276</td>\n",
              "      <td>0.622246</td>\n",
              "      <td>0.505998</td>\n",
              "      <td>1</td>\n",
              "      <td>1</td>\n",
              "      <td>-828.0</td>\n",
              "      <td>-291</td>\n",
              "      <td>0</td>\n",
              "      <td>1</td>\n",
              "      <td>...</td>\n",
              "      <td>0.1667</td>\n",
              "      <td>-1186.0</td>\n",
              "      <td>1129500.0</td>\n",
              "      <td>9.0</td>\n",
              "      <td>0.003541</td>\n",
              "      <td>0.0</td>\n",
              "      <td>0.0</td>\n",
              "      <td>0.2083</td>\n",
              "      <td>0.2083</td>\n",
              "      <td>45</td>\n",
              "    </tr>\n",
              "    <tr>\n",
              "      <th>2</th>\n",
              "      <td>0</td>\n",
              "      <td>0.729567</td>\n",
              "      <td>0.555912</td>\n",
              "      <td>0.505998</td>\n",
              "      <td>2</td>\n",
              "      <td>2</td>\n",
              "      <td>-815.0</td>\n",
              "      <td>-2531</td>\n",
              "      <td>0</td>\n",
              "      <td>1</td>\n",
              "      <td>...</td>\n",
              "      <td>0.1667</td>\n",
              "      <td>-4260.0</td>\n",
              "      <td>135000.0</td>\n",
              "      <td>9.0</td>\n",
              "      <td>0.010032</td>\n",
              "      <td>0.0</td>\n",
              "      <td>0.0</td>\n",
              "      <td>0.2083</td>\n",
              "      <td>0.2083</td>\n",
              "      <td>52</td>\n",
              "    </tr>\n",
              "    <tr>\n",
              "      <th>3</th>\n",
              "      <td>0</td>\n",
              "      <td>0.535276</td>\n",
              "      <td>0.650442</td>\n",
              "      <td>0.505998</td>\n",
              "      <td>2</td>\n",
              "      <td>2</td>\n",
              "      <td>-617.0</td>\n",
              "      <td>-2437</td>\n",
              "      <td>0</td>\n",
              "      <td>1</td>\n",
              "      <td>...</td>\n",
              "      <td>0.1667</td>\n",
              "      <td>-9833.0</td>\n",
              "      <td>297000.0</td>\n",
              "      <td>9.0</td>\n",
              "      <td>0.008019</td>\n",
              "      <td>0.0</td>\n",
              "      <td>0.0</td>\n",
              "      <td>0.2083</td>\n",
              "      <td>0.2083</td>\n",
              "      <td>52</td>\n",
              "    </tr>\n",
              "    <tr>\n",
              "      <th>4</th>\n",
              "      <td>0</td>\n",
              "      <td>0.535276</td>\n",
              "      <td>0.322738</td>\n",
              "      <td>0.505998</td>\n",
              "      <td>2</td>\n",
              "      <td>2</td>\n",
              "      <td>-1106.0</td>\n",
              "      <td>-3458</td>\n",
              "      <td>1</td>\n",
              "      <td>1</td>\n",
              "      <td>...</td>\n",
              "      <td>0.1667</td>\n",
              "      <td>-4311.0</td>\n",
              "      <td>513000.0</td>\n",
              "      <td>9.0</td>\n",
              "      <td>0.028663</td>\n",
              "      <td>0.0</td>\n",
              "      <td>0.0</td>\n",
              "      <td>0.2083</td>\n",
              "      <td>0.2083</td>\n",
              "      <td>54</td>\n",
              "    </tr>\n",
              "  </tbody>\n",
              "</table>\n",
              "<p>5 rows × 25 columns</p>\n",
              "</div>\n",
              "    <div class=\"colab-df-buttons\">\n",
              "\n",
              "  <div class=\"colab-df-container\">\n",
              "    <button class=\"colab-df-convert\" onclick=\"convertToInteractive('df-157529df-04a8-4b23-b540-0c64dd88a56e')\"\n",
              "            title=\"Convert this dataframe to an interactive table.\"\n",
              "            style=\"display:none;\">\n",
              "\n",
              "  <svg xmlns=\"http://www.w3.org/2000/svg\" height=\"24px\" viewBox=\"0 -960 960 960\">\n",
              "    <path d=\"M120-120v-720h720v720H120Zm60-500h600v-160H180v160Zm220 220h160v-160H400v160Zm0 220h160v-160H400v160ZM180-400h160v-160H180v160Zm440 0h160v-160H620v160ZM180-180h160v-160H180v160Zm440 0h160v-160H620v160Z\"/>\n",
              "  </svg>\n",
              "    </button>\n",
              "\n",
              "  <style>\n",
              "    .colab-df-container {\n",
              "      display:flex;\n",
              "      gap: 12px;\n",
              "    }\n",
              "\n",
              "    .colab-df-convert {\n",
              "      background-color: #E8F0FE;\n",
              "      border: none;\n",
              "      border-radius: 50%;\n",
              "      cursor: pointer;\n",
              "      display: none;\n",
              "      fill: #1967D2;\n",
              "      height: 32px;\n",
              "      padding: 0 0 0 0;\n",
              "      width: 32px;\n",
              "    }\n",
              "\n",
              "    .colab-df-convert:hover {\n",
              "      background-color: #E2EBFA;\n",
              "      box-shadow: 0px 1px 2px rgba(60, 64, 67, 0.3), 0px 1px 3px 1px rgba(60, 64, 67, 0.15);\n",
              "      fill: #174EA6;\n",
              "    }\n",
              "\n",
              "    .colab-df-buttons div {\n",
              "      margin-bottom: 4px;\n",
              "    }\n",
              "\n",
              "    [theme=dark] .colab-df-convert {\n",
              "      background-color: #3B4455;\n",
              "      fill: #D2E3FC;\n",
              "    }\n",
              "\n",
              "    [theme=dark] .colab-df-convert:hover {\n",
              "      background-color: #434B5C;\n",
              "      box-shadow: 0px 1px 3px 1px rgba(0, 0, 0, 0.15);\n",
              "      filter: drop-shadow(0px 1px 2px rgba(0, 0, 0, 0.3));\n",
              "      fill: #FFFFFF;\n",
              "    }\n",
              "  </style>\n",
              "\n",
              "    <script>\n",
              "      const buttonEl =\n",
              "        document.querySelector('#df-157529df-04a8-4b23-b540-0c64dd88a56e button.colab-df-convert');\n",
              "      buttonEl.style.display =\n",
              "        google.colab.kernel.accessAllowed ? 'block' : 'none';\n",
              "\n",
              "      async function convertToInteractive(key) {\n",
              "        const element = document.querySelector('#df-157529df-04a8-4b23-b540-0c64dd88a56e');\n",
              "        const dataTable =\n",
              "          await google.colab.kernel.invokeFunction('convertToInteractive',\n",
              "                                                    [key], {});\n",
              "        if (!dataTable) return;\n",
              "\n",
              "        const docLinkHtml = 'Like what you see? Visit the ' +\n",
              "          '<a target=\"_blank\" href=https://colab.research.google.com/notebooks/data_table.ipynb>data table notebook</a>'\n",
              "          + ' to learn more about interactive tables.';\n",
              "        element.innerHTML = '';\n",
              "        dataTable['output_type'] = 'display_data';\n",
              "        await google.colab.output.renderOutput(dataTable, element);\n",
              "        const docLink = document.createElement('div');\n",
              "        docLink.innerHTML = docLinkHtml;\n",
              "        element.appendChild(docLink);\n",
              "      }\n",
              "    </script>\n",
              "  </div>\n",
              "\n",
              "\n",
              "<div id=\"df-53e26a87-0aed-4199-9f28-64e0bd736ea6\">\n",
              "  <button class=\"colab-df-quickchart\" onclick=\"quickchart('df-53e26a87-0aed-4199-9f28-64e0bd736ea6')\"\n",
              "            title=\"Suggest charts\"\n",
              "            style=\"display:none;\">\n",
              "\n",
              "<svg xmlns=\"http://www.w3.org/2000/svg\" height=\"24px\"viewBox=\"0 0 24 24\"\n",
              "     width=\"24px\">\n",
              "    <g>\n",
              "        <path d=\"M19 3H5c-1.1 0-2 .9-2 2v14c0 1.1.9 2 2 2h14c1.1 0 2-.9 2-2V5c0-1.1-.9-2-2-2zM9 17H7v-7h2v7zm4 0h-2V7h2v10zm4 0h-2v-4h2v4z\"/>\n",
              "    </g>\n",
              "</svg>\n",
              "  </button>\n",
              "\n",
              "<style>\n",
              "  .colab-df-quickchart {\n",
              "      --bg-color: #E8F0FE;\n",
              "      --fill-color: #1967D2;\n",
              "      --hover-bg-color: #E2EBFA;\n",
              "      --hover-fill-color: #174EA6;\n",
              "      --disabled-fill-color: #AAA;\n",
              "      --disabled-bg-color: #DDD;\n",
              "  }\n",
              "\n",
              "  [theme=dark] .colab-df-quickchart {\n",
              "      --bg-color: #3B4455;\n",
              "      --fill-color: #D2E3FC;\n",
              "      --hover-bg-color: #434B5C;\n",
              "      --hover-fill-color: #FFFFFF;\n",
              "      --disabled-bg-color: #3B4455;\n",
              "      --disabled-fill-color: #666;\n",
              "  }\n",
              "\n",
              "  .colab-df-quickchart {\n",
              "    background-color: var(--bg-color);\n",
              "    border: none;\n",
              "    border-radius: 50%;\n",
              "    cursor: pointer;\n",
              "    display: none;\n",
              "    fill: var(--fill-color);\n",
              "    height: 32px;\n",
              "    padding: 0;\n",
              "    width: 32px;\n",
              "  }\n",
              "\n",
              "  .colab-df-quickchart:hover {\n",
              "    background-color: var(--hover-bg-color);\n",
              "    box-shadow: 0 1px 2px rgba(60, 64, 67, 0.3), 0 1px 3px 1px rgba(60, 64, 67, 0.15);\n",
              "    fill: var(--button-hover-fill-color);\n",
              "  }\n",
              "\n",
              "  .colab-df-quickchart-complete:disabled,\n",
              "  .colab-df-quickchart-complete:disabled:hover {\n",
              "    background-color: var(--disabled-bg-color);\n",
              "    fill: var(--disabled-fill-color);\n",
              "    box-shadow: none;\n",
              "  }\n",
              "\n",
              "  .colab-df-spinner {\n",
              "    border: 2px solid var(--fill-color);\n",
              "    border-color: transparent;\n",
              "    border-bottom-color: var(--fill-color);\n",
              "    animation:\n",
              "      spin 1s steps(1) infinite;\n",
              "  }\n",
              "\n",
              "  @keyframes spin {\n",
              "    0% {\n",
              "      border-color: transparent;\n",
              "      border-bottom-color: var(--fill-color);\n",
              "      border-left-color: var(--fill-color);\n",
              "    }\n",
              "    20% {\n",
              "      border-color: transparent;\n",
              "      border-left-color: var(--fill-color);\n",
              "      border-top-color: var(--fill-color);\n",
              "    }\n",
              "    30% {\n",
              "      border-color: transparent;\n",
              "      border-left-color: var(--fill-color);\n",
              "      border-top-color: var(--fill-color);\n",
              "      border-right-color: var(--fill-color);\n",
              "    }\n",
              "    40% {\n",
              "      border-color: transparent;\n",
              "      border-right-color: var(--fill-color);\n",
              "      border-top-color: var(--fill-color);\n",
              "    }\n",
              "    60% {\n",
              "      border-color: transparent;\n",
              "      border-right-color: var(--fill-color);\n",
              "    }\n",
              "    80% {\n",
              "      border-color: transparent;\n",
              "      border-right-color: var(--fill-color);\n",
              "      border-bottom-color: var(--fill-color);\n",
              "    }\n",
              "    90% {\n",
              "      border-color: transparent;\n",
              "      border-bottom-color: var(--fill-color);\n",
              "    }\n",
              "  }\n",
              "</style>\n",
              "\n",
              "  <script>\n",
              "    async function quickchart(key) {\n",
              "      const quickchartButtonEl =\n",
              "        document.querySelector('#' + key + ' button');\n",
              "      quickchartButtonEl.disabled = true;  // To prevent multiple clicks.\n",
              "      quickchartButtonEl.classList.add('colab-df-spinner');\n",
              "      try {\n",
              "        const charts = await google.colab.kernel.invokeFunction(\n",
              "            'suggestCharts', [key], {});\n",
              "      } catch (error) {\n",
              "        console.error('Error during call to suggestCharts:', error);\n",
              "      }\n",
              "      quickchartButtonEl.classList.remove('colab-df-spinner');\n",
              "      quickchartButtonEl.classList.add('colab-df-quickchart-complete');\n",
              "    }\n",
              "    (() => {\n",
              "      let quickchartButtonEl =\n",
              "        document.querySelector('#df-53e26a87-0aed-4199-9f28-64e0bd736ea6 button');\n",
              "      quickchartButtonEl.style.display =\n",
              "        google.colab.kernel.accessAllowed ? 'block' : 'none';\n",
              "    })();\n",
              "  </script>\n",
              "</div>\n",
              "\n",
              "    </div>\n",
              "  </div>\n"
            ],
            "application/vnd.google.colaboratory.intrinsic+json": {
              "type": "dataframe",
              "variable_name": "new_data"
            }
          },
          "metadata": {},
          "execution_count": 12
        }
      ],
      "execution_count": 12
    },
    {
      "cell_type": "markdown",
      "source": [
        "##Check class imbalance to fix"
      ],
      "metadata": {
        "id": "j5_7QxsFZaft"
      }
    },
    {
      "cell_type": "code",
      "source": [
        "# Check imbalance\n",
        "print(new_data.TARGET.value_counts())\n",
        "_=new_data.groupby('TARGET').size().plot(kind='barh',color=sns.palettes.mpl_palette('Dark2'))"
      ],
      "metadata": {
        "colab": {
          "base_uri": "https://localhost:8080/",
          "height": 499
        },
        "id": "4mUP1WREJlyz",
        "outputId": "74a7739c-8f6d-4e8a-e7df-7d5eda72909e",
        "trusted": true
      },
      "outputs": [
        {
          "output_type": "stream",
          "name": "stdout",
          "text": [
            "TARGET\n",
            "0    282686\n",
            "1     24825\n",
            "Name: count, dtype: int64\n"
          ]
        },
        {
          "output_type": "display_data",
          "data": {
            "text/plain": [
              "<Figure size 640x480 with 1 Axes>"
            ],
            "image/png": "[encoded data removed]"
          },
          "metadata": {}
        }
      ],
      "execution_count": 13
    },
    {
      "cell_type": "code",
      "source": [
        "TARGET_0=new_data[new_data['TARGET']==0]\n",
        "TARGET_1=new_data[new_data['TARGET']==1]\n",
        "print(TARGET_0.shape)\n",
        "print(TARGET_1.shape)"
      ],
      "metadata": {
        "colab": {
          "base_uri": "https://localhost:8080/"
        },
        "id": "YHt40hQtL-Or",
        "outputId": "acce9244-620e-4352-d163-4877d34e93b7",
        "trusted": true
      },
      "outputs": [
        {
          "output_type": "stream",
          "name": "stdout",
          "text": [
            "(282686, 25)\n",
            "(24825, 25)\n"
          ]
        }
      ],
      "execution_count": 14
    },
    {
      "cell_type": "markdown",
      "source": [
        "##Upsample"
      ],
      "metadata": {
        "id": "nH3I2YFK7vsX"
      }
    },
    {
      "cell_type": "code",
      "source": [
        "from sklearn.utils import resample\n",
        "TARGET_1_upsampled=resample(TARGET_1,replace=True,n_samples=len(TARGET_0),random_state=42)\n",
        "new_df=pd.concat([TARGET_0,TARGET_1_upsampled])\n",
        "print(new_df['TARGET'].value_counts())"
      ],
      "metadata": {
        "colab": {
          "base_uri": "https://localhost:8080/"
        },
        "id": "wDz7JB6TN9Ee",
        "outputId": "08c83030-0260-45e8-f195-56686bc2d01e",
        "trusted": true
      },
      "outputs": [
        {
          "output_type": "stream",
          "name": "stdout",
          "text": [
            "TARGET\n",
            "0    282686\n",
            "1    282686\n",
            "Name: count, dtype: int64\n"
          ]
        }
      ],
      "execution_count": 15
    },
    {
      "cell_type": "markdown",
      "source": [
        "##Shuffle the data"
      ],
      "metadata": {
        "id": "rKETfVV18Aua"
      }
    },
    {
      "cell_type": "code",
      "source": [
        "from sklearn.utils import shuffle\n",
        "new_df = pd.concat([TARGET_0,TARGET_1_upsampled])\n",
        "new_data=shuffle(new_df)\n",
        "new_data.head()"
      ],
      "metadata": {
        "colab": {
          "base_uri": "https://localhost:8080/",
          "height": 256
        },
        "id": "XwBICgCvS3KG",
        "outputId": "006baad6-ee40-45c2-f2ad-57b3c647c4bc",
        "trusted": true
      },
      "outputs": [
        {
          "output_type": "execute_result",
          "data": {
            "text/plain": [
              "        TARGET  EXT_SOURCE_3  EXT_SOURCE_2  EXT_SOURCE_1  \\\n",
              "116962       1      0.420611      0.223464      0.505998   \n",
              "276491       0      0.188490      0.751269      0.505998   \n",
              "306202       0      0.272134      0.618641      0.505998   \n",
              "34150        1      0.511892      0.677136      0.505998   \n",
              "222341       0      0.535276      0.739661      0.505998   \n",
              "\n",
              "        REGION_RATING_CLIENT_W_CITY  REGION_RATING_CLIENT  \\\n",
              "116962                            3                     3   \n",
              "276491                            1                     1   \n",
              "306202                            2                     2   \n",
              "34150                             2                     2   \n",
              "222341                            2                     2   \n",
              "\n",
              "        DAYS_LAST_PHONE_CHANGE  DAYS_ID_PUBLISH  REG_CITY_NOT_WORK_CITY  \\\n",
              "116962                 -2623.0            -4149                       0   \n",
              "276491                 -2340.0            -3403                       0   \n",
              "306202                  -425.0            -1131                       0   \n",
              "34150                  -1738.0            -1058                       0   \n",
              "222341                 -2671.0            -4597                       0   \n",
              "\n",
              "        FLAG_EMP_PHONE  ...  FLOORSMAX_MODE  DAYS_REGISTRATION  \\\n",
              "116962               1  ...          0.1667            -2770.0   \n",
              "276491               1  ...          0.1667             -666.0   \n",
              "306202               1  ...          0.1667            -8735.0   \n",
              "34150                1  ...          0.1667            -4340.0   \n",
              "222341               0  ...          0.1667            -2584.0   \n",
              "\n",
              "        AMT_GOODS_PRICE  OWN_CAR_AGE  REGION_POPULATION_RELATIVE  \\\n",
              "116962         261000.0          9.0                    0.018209   \n",
              "276491         450000.0          9.0                    0.072508   \n",
              "306202         328500.0          9.0                    0.019101   \n",
              "34150          900000.0          9.0                    0.019689   \n",
              "222341         454500.0          9.0                    0.030755   \n",
              "\n",
              "        ELEVATORS_AVG  ELEVATORS_MEDI  FLOORSMIN_AVG  FLOORSMIN_MEDI  AGE  \n",
              "116962            0.0             0.0         0.2083          0.2083   43  \n",
              "276491            0.0             0.0         0.2083          0.2083   54  \n",
              "306202            0.0             0.0         0.2083          0.2083   48  \n",
              "34150             0.0             0.0         0.2083          0.2083   48  \n",
              "222341            0.0             0.0         0.2083          0.2083   61  \n",
              "\n",
              "[5 rows x 25 columns]"
            ],
            "text/html": [
              "\n",
              "  <div id=\"df-472e2e67-c762-4948-aef7-603fb6708e06\" class=\"colab-df-container\">\n",
              "    <div>\n",
              "<style scoped>\n",
              "    .dataframe tbody tr th:only-of-type {\n",
              "        vertical-align: middle;\n",
              "    }\n",
              "\n",
              "    .dataframe tbody tr th {\n",
              "        vertical-align: top;\n",
              "    }\n",
              "\n",
              "    .dataframe thead th {\n",
              "        text-align: right;\n",
              "    }\n",
              "</style>\n",
              "<table border=\"1\" class=\"dataframe\">\n",
              "  <thead>\n",
              "    <tr style=\"text-align: right;\">\n",
              "      <th></th>\n",
              "      <th>TARGET</th>\n",
              "      <th>EXT_SOURCE_3</th>\n",
              "      <th>EXT_SOURCE_2</th>\n",
              "      <th>EXT_SOURCE_1</th>\n",
              "      <th>REGION_RATING_CLIENT_W_CITY</th>\n",
              "      <th>REGION_RATING_CLIENT</th>\n",
              "      <th>DAYS_LAST_PHONE_CHANGE</th>\n",
              "      <th>DAYS_ID_PUBLISH</th>\n",
              "      <th>REG_CITY_NOT_WORK_CITY</th>\n",
              "      <th>FLAG_EMP_PHONE</th>\n",
              "      <th>...</th>\n",
              "      <th>FLOORSMAX_MODE</th>\n",
              "      <th>DAYS_REGISTRATION</th>\n",
              "      <th>AMT_GOODS_PRICE</th>\n",
              "      <th>OWN_CAR_AGE</th>\n",
              "      <th>REGION_POPULATION_RELATIVE</th>\n",
              "      <th>ELEVATORS_AVG</th>\n",
              "      <th>ELEVATORS_MEDI</th>\n",
              "      <th>FLOORSMIN_AVG</th>\n",
              "      <th>FLOORSMIN_MEDI</th>\n",
              "      <th>AGE</th>\n",
              "    </tr>\n",
              "  </thead>\n",
              "  <tbody>\n",
              "    <tr>\n",
              "      <th>116962</th>\n",
              "      <td>1</td>\n",
              "      <td>0.420611</td>\n",
              "      <td>0.223464</td>\n",
              "      <td>0.505998</td>\n",
              "      <td>3</td>\n",
              "      <td>3</td>\n",
              "      <td>-2623.0</td>\n",
              "      <td>-4149</td>\n",
              "      <td>0</td>\n",
              "      <td>1</td>\n",
              "      <td>...</td>\n",
              "      <td>0.1667</td>\n",
              "      <td>-2770.0</td>\n",
              "      <td>261000.0</td>\n",
              "      <td>9.0</td>\n",
              "      <td>0.018209</td>\n",
              "      <td>0.0</td>\n",
              "      <td>0.0</td>\n",
              "      <td>0.2083</td>\n",
              "      <td>0.2083</td>\n",
              "      <td>43</td>\n",
              "    </tr>\n",
              "    <tr>\n",
              "      <th>276491</th>\n",
              "      <td>0</td>\n",
              "      <td>0.188490</td>\n",
              "      <td>0.751269</td>\n",
              "      <td>0.505998</td>\n",
              "      <td>1</td>\n",
              "      <td>1</td>\n",
              "      <td>-2340.0</td>\n",
              "      <td>-3403</td>\n",
              "      <td>0</td>\n",
              "      <td>1</td>\n",
              "      <td>...</td>\n",
              "      <td>0.1667</td>\n",
              "      <td>-666.0</td>\n",
              "      <td>450000.0</td>\n",
              "      <td>9.0</td>\n",
              "      <td>0.072508</td>\n",
              "      <td>0.0</td>\n",
              "      <td>0.0</td>\n",
              "      <td>0.2083</td>\n",
              "      <td>0.2083</td>\n",
              "      <td>54</td>\n",
              "    </tr>\n",
              "    <tr>\n",
              "      <th>306202</th>\n",
              "      <td>0</td>\n",
              "      <td>0.272134</td>\n",
              "      <td>0.618641</td>\n",
              "      <td>0.505998</td>\n",
              "      <td>2</td>\n",
              "      <td>2</td>\n",
              "      <td>-425.0</td>\n",
              "      <td>-1131</td>\n",
              "      <td>0</td>\n",
              "      <td>1</td>\n",
              "      <td>...</td>\n",
              "      <td>0.1667</td>\n",
              "      <td>-8735.0</td>\n",
              "      <td>328500.0</td>\n",
              "      <td>9.0</td>\n",
              "      <td>0.019101</td>\n",
              "      <td>0.0</td>\n",
              "      <td>0.0</td>\n",
              "      <td>0.2083</td>\n",
              "      <td>0.2083</td>\n",
              "      <td>48</td>\n",
              "    </tr>\n",
              "    <tr>\n",
              "      <th>34150</th>\n",
              "      <td>1</td>\n",
              "      <td>0.511892</td>\n",
              "      <td>0.677136</td>\n",
              "      <td>0.505998</td>\n",
              "      <td>2</td>\n",
              "      <td>2</td>\n",
              "      <td>-1738.0</td>\n",
              "      <td>-1058</td>\n",
              "      <td>0</td>\n",
              "      <td>1</td>\n",
              "      <td>...</td>\n",
              "      <td>0.1667</td>\n",
              "      <td>-4340.0</td>\n",
              "      <td>900000.0</td>\n",
              "      <td>9.0</td>\n",
              "      <td>0.019689</td>\n",
              "      <td>0.0</td>\n",
              "      <td>0.0</td>\n",
              "      <td>0.2083</td>\n",
              "      <td>0.2083</td>\n",
              "      <td>48</td>\n",
              "    </tr>\n",
              "    <tr>\n",
              "      <th>222341</th>\n",
              "      <td>0</td>\n",
              "      <td>0.535276</td>\n",
              "      <td>0.739661</td>\n",
              "      <td>0.505998</td>\n",
              "      <td>2</td>\n",
              "      <td>2</td>\n",
              "      <td>-2671.0</td>\n",
              "      <td>-4597</td>\n",
              "      <td>0</td>\n",
              "      <td>0</td>\n",
              "      <td>...</td>\n",
              "      <td>0.1667</td>\n",
              "      <td>-2584.0</td>\n",
              "      <td>454500.0</td>\n",
              "      <td>9.0</td>\n",
              "      <td>0.030755</td>\n",
              "      <td>0.0</td>\n",
              "      <td>0.0</td>\n",
              "      <td>0.2083</td>\n",
              "      <td>0.2083</td>\n",
              "      <td>61</td>\n",
              "    </tr>\n",
              "  </tbody>\n",
              "</table>\n",
              "<p>5 rows × 25 columns</p>\n",
              "</div>\n",
              "    <div class=\"colab-df-buttons\">\n",
              "\n",
              "  <div class=\"colab-df-container\">\n",
              "    <button class=\"colab-df-convert\" onclick=\"convertToInteractive('df-472e2e67-c762-4948-aef7-603fb6708e06')\"\n",
              "            title=\"Convert this dataframe to an interactive table.\"\n",
              "            style=\"display:none;\">\n",
              "\n",
              "  <svg xmlns=\"http://www.w3.org/2000/svg\" height=\"24px\" viewBox=\"0 -960 960 960\">\n",
              "    <path d=\"M120-120v-720h720v720H120Zm60-500h600v-160H180v160Zm220 220h160v-160H400v160Zm0 220h160v-160H400v160ZM180-400h160v-160H180v160Zm440 0h160v-160H620v160ZM180-180h160v-160H180v160Zm440 0h160v-160H620v160Z\"/>\n",
              "  </svg>\n",
              "    </button>\n",
              "\n",
              "  <style>\n",
              "    .colab-df-container {\n",
              "      display:flex;\n",
              "      gap: 12px;\n",
              "    }\n",
              "\n",
              "    .colab-df-convert {\n",
              "      background-color: #E8F0FE;\n",
              "      border: none;\n",
              "      border-radius: 50%;\n",
              "      cursor: pointer;\n",
              "      display: none;\n",
              "      fill: #1967D2;\n",
              "      height: 32px;\n",
              "      padding: 0 0 0 0;\n",
              "      width: 32px;\n",
              "    }\n",
              "\n",
              "    .colab-df-convert:hover {\n",
              "      background-color: #E2EBFA;\n",
              "      box-shadow: 0px 1px 2px rgba(60, 64, 67, 0.3), 0px 1px 3px 1px rgba(60, 64, 67, 0.15);\n",
              "      fill: #174EA6;\n",
              "    }\n",
              "\n",
              "    .colab-df-buttons div {\n",
              "      margin-bottom: 4px;\n",
              "    }\n",
              "\n",
              "    [theme=dark] .colab-df-convert {\n",
              "      background-color: #3B4455;\n",
              "      fill: #D2E3FC;\n",
              "    }\n",
              "\n",
              "    [theme=dark] .colab-df-convert:hover {\n",
              "      background-color: #434B5C;\n",
              "      box-shadow: 0px 1px 3px 1px rgba(0, 0, 0, 0.15);\n",
              "      filter: drop-shadow(0px 1px 2px rgba(0, 0, 0, 0.3));\n",
              "      fill: #FFFFFF;\n",
              "    }\n",
              "  </style>\n",
              "\n",
              "    <script>\n",
              "      const buttonEl =\n",
              "        document.querySelector('#df-472e2e67-c762-4948-aef7-603fb6708e06 button.colab-df-convert');\n",
              "      buttonEl.style.display =\n",
              "        google.colab.kernel.accessAllowed ? 'block' : 'none';\n",
              "\n",
              "      async function convertToInteractive(key) {\n",
              "        const element = document.querySelector('#df-472e2e67-c762-4948-aef7-603fb6708e06');\n",
              "        const dataTable =\n",
              "          await google.colab.kernel.invokeFunction('convertToInteractive',\n",
              "                                                    [key], {});\n",
              "        if (!dataTable) return;\n",
              "\n",
              "        const docLinkHtml = 'Like what you see? Visit the ' +\n",
              "          '<a target=\"_blank\" href=https://colab.research.google.com/notebooks/data_table.ipynb>data table notebook</a>'\n",
              "          + ' to learn more about interactive tables.';\n",
              "        element.innerHTML = '';\n",
              "        dataTable['output_type'] = 'display_data';\n",
              "        await google.colab.output.renderOutput(dataTable, element);\n",
              "        const docLink = document.createElement('div');\n",
              "        docLink.innerHTML = docLinkHtml;\n",
              "        element.appendChild(docLink);\n",
              "      }\n",
              "    </script>\n",
              "  </div>\n",
              "\n",
              "\n",
              "<div id=\"df-eb6dd609-a6bf-4959-aad2-0d66e93af21b\">\n",
              "  <button class=\"colab-df-quickchart\" onclick=\"quickchart('df-eb6dd609-a6bf-4959-aad2-0d66e93af21b')\"\n",
              "            title=\"Suggest charts\"\n",
              "            style=\"display:none;\">\n",
              "\n",
              "<svg xmlns=\"http://www.w3.org/2000/svg\" height=\"24px\"viewBox=\"0 0 24 24\"\n",
              "     width=\"24px\">\n",
              "    <g>\n",
              "        <path d=\"M19 3H5c-1.1 0-2 .9-2 2v14c0 1.1.9 2 2 2h14c1.1 0 2-.9 2-2V5c0-1.1-.9-2-2-2zM9 17H7v-7h2v7zm4 0h-2V7h2v10zm4 0h-2v-4h2v4z\"/>\n",
              "    </g>\n",
              "</svg>\n",
              "  </button>\n",
              "\n",
              "<style>\n",
              "  .colab-df-quickchart {\n",
              "      --bg-color: #E8F0FE;\n",
              "      --fill-color: #1967D2;\n",
              "      --hover-bg-color: #E2EBFA;\n",
              "      --hover-fill-color: #174EA6;\n",
              "      --disabled-fill-color: #AAA;\n",
              "      --disabled-bg-color: #DDD;\n",
              "  }\n",
              "\n",
              "  [theme=dark] .colab-df-quickchart {\n",
              "      --bg-color: #3B4455;\n",
              "      --fill-color: #D2E3FC;\n",
              "      --hover-bg-color: #434B5C;\n",
              "      --hover-fill-color: #FFFFFF;\n",
              "      --disabled-bg-color: #3B4455;\n",
              "      --disabled-fill-color: #666;\n",
              "  }\n",
              "\n",
              "  .colab-df-quickchart {\n",
              "    background-color: var(--bg-color);\n",
              "    border: none;\n",
              "    border-radius: 50%;\n",
              "    cursor: pointer;\n",
              "    display: none;\n",
              "    fill: var(--fill-color);\n",
              "    height: 32px;\n",
              "    padding: 0;\n",
              "    width: 32px;\n",
              "  }\n",
              "\n",
              "  .colab-df-quickchart:hover {\n",
              "    background-color: var(--hover-bg-color);\n",
              "    box-shadow: 0 1px 2px rgba(60, 64, 67, 0.3), 0 1px 3px 1px rgba(60, 64, 67, 0.15);\n",
              "    fill: var(--button-hover-fill-color);\n",
              "  }\n",
              "\n",
              "  .colab-df-quickchart-complete:disabled,\n",
              "  .colab-df-quickchart-complete:disabled:hover {\n",
              "    background-color: var(--disabled-bg-color);\n",
              "    fill: var(--disabled-fill-color);\n",
              "    box-shadow: none;\n",
              "  }\n",
              "\n",
              "  .colab-df-spinner {\n",
              "    border: 2px solid var(--fill-color);\n",
              "    border-color: transparent;\n",
              "    border-bottom-color: var(--fill-color);\n",
              "    animation:\n",
              "      spin 1s steps(1) infinite;\n",
              "  }\n",
              "\n",
              "  @keyframes spin {\n",
              "    0% {\n",
              "      border-color: transparent;\n",
              "      border-bottom-color: var(--fill-color);\n",
              "      border-left-color: var(--fill-color);\n",
              "    }\n",
              "    20% {\n",
              "      border-color: transparent;\n",
              "      border-left-color: var(--fill-color);\n",
              "      border-top-color: var(--fill-color);\n",
              "    }\n",
              "    30% {\n",
              "      border-color: transparent;\n",
              "      border-left-color: var(--fill-color);\n",
              "      border-top-color: var(--fill-color);\n",
              "      border-right-color: var(--fill-color);\n",
              "    }\n",
              "    40% {\n",
              "      border-color: transparent;\n",
              "      border-right-color: var(--fill-color);\n",
              "      border-top-color: var(--fill-color);\n",
              "    }\n",
              "    60% {\n",
              "      border-color: transparent;\n",
              "      border-right-color: var(--fill-color);\n",
              "    }\n",
              "    80% {\n",
              "      border-color: transparent;\n",
              "      border-right-color: var(--fill-color);\n",
              "      border-bottom-color: var(--fill-color);\n",
              "    }\n",
              "    90% {\n",
              "      border-color: transparent;\n",
              "      border-bottom-color: var(--fill-color);\n",
              "    }\n",
              "  }\n",
              "</style>\n",
              "\n",
              "  <script>\n",
              "    async function quickchart(key) {\n",
              "      const quickchartButtonEl =\n",
              "        document.querySelector('#' + key + ' button');\n",
              "      quickchartButtonEl.disabled = true;  // To prevent multiple clicks.\n",
              "      quickchartButtonEl.classList.add('colab-df-spinner');\n",
              "      try {\n",
              "        const charts = await google.colab.kernel.invokeFunction(\n",
              "            'suggestCharts', [key], {});\n",
              "      } catch (error) {\n",
              "        console.error('Error during call to suggestCharts:', error);\n",
              "      }\n",
              "      quickchartButtonEl.classList.remove('colab-df-spinner');\n",
              "      quickchartButtonEl.classList.add('colab-df-quickchart-complete');\n",
              "    }\n",
              "    (() => {\n",
              "      let quickchartButtonEl =\n",
              "        document.querySelector('#df-eb6dd609-a6bf-4959-aad2-0d66e93af21b button');\n",
              "      quickchartButtonEl.style.display =\n",
              "        google.colab.kernel.accessAllowed ? 'block' : 'none';\n",
              "    })();\n",
              "  </script>\n",
              "</div>\n",
              "\n",
              "    </div>\n",
              "  </div>\n"
            ],
            "application/vnd.google.colaboratory.intrinsic+json": {
              "type": "dataframe",
              "variable_name": "new_data"
            }
          },
          "metadata": {},
          "execution_count": 16
        }
      ],
      "execution_count": 16
    },
    {
      "cell_type": "code",
      "source": [
        "X = new_data.drop('TARGET',axis=1)\n",
        "y = new_data['TARGET']\n",
        "print('X shape -> ',X.shape)\n",
        "print('y shape -> ',y.shape)"
      ],
      "metadata": {
        "colab": {
          "base_uri": "https://localhost:8080/"
        },
        "id": "MTp4Yw97JEBg",
        "outputId": "d8200042-b583-4de1-ac49-63278c6fcdeb",
        "trusted": true
      },
      "outputs": [
        {
          "output_type": "stream",
          "name": "stdout",
          "text": [
            "X shape ->  (565372, 24)\n",
            "y shape ->  (565372,)\n"
          ]
        }
      ],
      "execution_count": 17
    },
    {
      "cell_type": "markdown",
      "source": [
        "##Get Train and Test splits"
      ],
      "metadata": {
        "id": "MmJ6KPs48G9y"
      }
    },
    {
      "cell_type": "code",
      "source": [
        "from sklearn.model_selection import train_test_split\n",
        "from sklearn.preprocessing import StandardScaler\n",
        "scaler = StandardScaler()\n",
        "\n",
        "X_train,X_test,y_train,y_test = train_test_split(X,y,test_size=0.2,random_state=42)\n",
        "X_train = scaler.fit_transform(X_train)\n",
        "X_test = scaler.transform(X_test)"
      ],
      "metadata": {
        "id": "qyNmzRtGJQwY",
        "trusted": true
      },
      "outputs": [],
      "execution_count": 18
    },
    {
      "cell_type": "markdown",
      "source": [
        "##Create ANN using keras & tf"
      ],
      "metadata": {
        "id": "2QfrnAIlVJtj"
      }
    },
    {
      "cell_type": "markdown",
      "source": [
        "###Create model architecture"
      ],
      "metadata": {
        "id": "bfA4ZYVn8elh"
      }
    },
    {
      "cell_type": "code",
      "source": [
        "from tensorflow.keras.models import Sequential\n",
        "from tensorflow.keras.layers import Dense,Dropout,BatchNormalization\n",
        "# l2 regularizer\n",
        "from tensorflow.keras.regularizers import l2\n",
        "from tensorflow import keras\n",
        "model=Sequential()\n",
        "# this will eliminate UserWarning: Do not pass an `input_shape`/`input_dim` argument to a layer. When using Sequential models, prefer using an `Input(shape)` object as the first layer in the model instead.\n",
        "inputs = keras.Input(shape=(X_train.shape[1],))\n",
        "model.add(inputs)\n",
        "# add first hidden layer\n",
        "model.add(Dense(units=32,activation='relu',kernel_regularizer=l2(0.001)))\n",
        "model.add(Dropout(0.2))\n",
        "model.add(BatchNormalization())\n",
        "# add scond hidden layer\n",
        "model.add(Dense(units=64,activation='relu',kernel_regularizer=l2(0.001)))\n",
        "model.add(Dropout(0.2))\n",
        "model.add(BatchNormalization())\n",
        "# third hidden layer\n",
        "model.add(Dense(units=128,activation='relu',kernel_regularizer=l2(0.001)))\n",
        "model.add(Dropout(0.2))\n",
        "model.add(BatchNormalization())\n",
        "# output\n",
        "model.add(Dense(1,activation='sigmoid'))\n",
        "print('model created')"
      ],
      "metadata": {
        "colab": {
          "base_uri": "https://localhost:8080/"
        },
        "id": "grvzhMpgVJGR",
        "outputId": "6a392b67-cc47-44fc-d04b-871cee0baf2a",
        "trusted": true
      },
      "outputs": [
        {
          "output_type": "stream",
          "name": "stdout",
          "text": [
            "model created\n"
          ]
        }
      ],
      "execution_count": 19
    },
    {
      "cell_type": "code",
      "source": [
        "model.summary()"
      ],
      "metadata": {
        "colab": {
          "base_uri": "https://localhost:8080/",
          "height": 504
        },
        "id": "D9Y0L0FlWaox",
        "outputId": "57f7cd91-ebf5-4215-f783-99c2ebc298f6",
        "trusted": true
      },
      "outputs": [
        {
          "output_type": "display_data",
          "data": {
            "text/plain": [
              "\u001b[1mModel: \"sequential\"\u001b[0m\n"
            ],
            "text/html": [
              "<pre style=\"white-space:pre;overflow-x:auto;line-height:normal;font-family:Menlo,'DejaVu Sans Mono',consolas,'Courier New',monospace\"><span style=\"font-weight: bold\">Model: \"sequential\"</span>\n",
              "</pre>\n"
            ]
          },
          "metadata": {}
        },
        {
          "output_type": "display_data",
          "data": {
            "text/plain": [
              "┏━━━━━━━━━━━━━━━━━━━━━━━━━━━━━━━━━━━━━━┳━━━━━━━━━━━━━━━━━━━━━━━━━━━━━┳━━━━━━━━━━━━━━━━━┓\n",
              "┃\u001b[1m \u001b[0m\u001b[1mLayer (type)                        \u001b[0m\u001b[1m \u001b[0m┃\u001b[1m \u001b[0m\u001b[1mOutput Shape               \u001b[0m\u001b[1m \u001b[0m┃\u001b[1m \u001b[0m\u001b[1m        Param #\u001b[0m\u001b[1m \u001b[0m┃\n",
              "┡━━━━━━━━━━━━━━━━━━━━━━━━━━━━━━━━━━━━━━╇━━━━━━━━━━━━━━━━━━━━━━━━━━━━━╇━━━━━━━━━━━━━━━━━┩\n",
              "│ dense (\u001b[38;5;33mDense\u001b[0m)                        │ (\u001b[38;5;45mNone\u001b[0m, \u001b[38;5;34m32\u001b[0m)                  │             \u001b[38;5;34m800\u001b[0m │\n",
              "├──────────────────────────────────────┼─────────────────────────────┼─────────────────┤\n",
              "│ dropout (\u001b[38;5;33mDropout\u001b[0m)                    │ (\u001b[38;5;45mNone\u001b[0m, \u001b[38;5;34m32\u001b[0m)                  │               \u001b[38;5;34m0\u001b[0m │\n",
              "├──────────────────────────────────────┼─────────────────────────────┼─────────────────┤\n",
              "│ batch_normalization                  │ (\u001b[38;5;45mNone\u001b[0m, \u001b[38;5;34m32\u001b[0m)                  │             \u001b[38;5;34m128\u001b[0m │\n",
              "│ (\u001b[38;5;33mBatchNormalization\u001b[0m)                 │                             │                 │\n",
              "├──────────────────────────────────────┼─────────────────────────────┼─────────────────┤\n",
              "│ dense_1 (\u001b[38;5;33mDense\u001b[0m)                      │ (\u001b[38;5;45mNone\u001b[0m, \u001b[38;5;34m64\u001b[0m)                  │           \u001b[38;5;34m2,112\u001b[0m │\n",
              "├──────────────────────────────────────┼─────────────────────────────┼─────────────────┤\n",
              "│ dropout_1 (\u001b[38;5;33mDropout\u001b[0m)                  │ (\u001b[38;5;45mNone\u001b[0m, \u001b[38;5;34m64\u001b[0m)                  │               \u001b[38;5;34m0\u001b[0m │\n",
              "├──────────────────────────────────────┼─────────────────────────────┼─────────────────┤\n",
              "│ batch_normalization_1                │ (\u001b[38;5;45mNone\u001b[0m, \u001b[38;5;34m64\u001b[0m)                  │             \u001b[38;5;34m256\u001b[0m │\n",
              "│ (\u001b[38;5;33mBatchNormalization\u001b[0m)                 │                             │                 │\n",
              "├──────────────────────────────────────┼─────────────────────────────┼─────────────────┤\n",
              "│ dense_2 (\u001b[38;5;33mDense\u001b[0m)                      │ (\u001b[38;5;45mNone\u001b[0m, \u001b[38;5;34m128\u001b[0m)                 │           \u001b[38;5;34m8,320\u001b[0m │\n",
              "├──────────────────────────────────────┼─────────────────────────────┼─────────────────┤\n",
              "│ dropout_2 (\u001b[38;5;33mDropout\u001b[0m)                  │ (\u001b[38;5;45mNone\u001b[0m, \u001b[38;5;34m128\u001b[0m)                 │               \u001b[38;5;34m0\u001b[0m │\n",
              "├──────────────────────────────────────┼─────────────────────────────┼─────────────────┤\n",
              "│ batch_normalization_2                │ (\u001b[38;5;45mNone\u001b[0m, \u001b[38;5;34m128\u001b[0m)                 │             \u001b[38;5;34m512\u001b[0m │\n",
              "│ (\u001b[38;5;33mBatchNormalization\u001b[0m)                 │                             │                 │\n",
              "├──────────────────────────────────────┼─────────────────────────────┼─────────────────┤\n",
              "│ dense_3 (\u001b[38;5;33mDense\u001b[0m)                      │ (\u001b[38;5;45mNone\u001b[0m, \u001b[38;5;34m1\u001b[0m)                   │             \u001b[38;5;34m129\u001b[0m │\n",
              "└──────────────────────────────────────┴─────────────────────────────┴─────────────────┘\n"
            ],
            "text/html": [
              "<pre style=\"white-space:pre;overflow-x:auto;line-height:normal;font-family:Menlo,'DejaVu Sans Mono',consolas,'Courier New',monospace\">┏━━━━━━━━━━━━━━━━━━━━━━━━━━━━━━━━━━━━━━┳━━━━━━━━━━━━━━━━━━━━━━━━━━━━━┳━━━━━━━━━━━━━━━━━┓\n",
              "┃<span style=\"font-weight: bold\"> Layer (type)                         </span>┃<span style=\"font-weight: bold\"> Output Shape                </span>┃<span style=\"font-weight: bold\">         Param # </span>┃\n",
              "┡━━━━━━━━━━━━━━━━━━━━━━━━━━━━━━━━━━━━━━╇━━━━━━━━━━━━━━━━━━━━━━━━━━━━━╇━━━━━━━━━━━━━━━━━┩\n",
              "│ dense (<span style=\"color: #0087ff; text-decoration-color: #0087ff\">Dense</span>)                        │ (<span style=\"color: #00d7ff; text-decoration-color: #00d7ff\">None</span>, <span style=\"color: #00af00; text-decoration-color: #00af00\">32</span>)                  │             <span style=\"color: #00af00; text-decoration-color: #00af00\">800</span> │\n",
              "├──────────────────────────────────────┼─────────────────────────────┼─────────────────┤\n",
              "│ dropout (<span style=\"color: #0087ff; text-decoration-color: #0087ff\">Dropout</span>)                    │ (<span style=\"color: #00d7ff; text-decoration-color: #00d7ff\">None</span>, <span style=\"color: #00af00; text-decoration-color: #00af00\">32</span>)                  │               <span style=\"color: #00af00; text-decoration-color: #00af00\">0</span> │\n",
              "├──────────────────────────────────────┼─────────────────────────────┼─────────────────┤\n",
              "│ batch_normalization                  │ (<span style=\"color: #00d7ff; text-decoration-color: #00d7ff\">None</span>, <span style=\"color: #00af00; text-decoration-color: #00af00\">32</span>)                  │             <span style=\"color: #00af00; text-decoration-color: #00af00\">128</span> │\n",
              "│ (<span style=\"color: #0087ff; text-decoration-color: #0087ff\">BatchNormalization</span>)                 │                             │                 │\n",
              "├──────────────────────────────────────┼─────────────────────────────┼─────────────────┤\n",
              "│ dense_1 (<span style=\"color: #0087ff; text-decoration-color: #0087ff\">Dense</span>)                      │ (<span style=\"color: #00d7ff; text-decoration-color: #00d7ff\">None</span>, <span style=\"color: #00af00; text-decoration-color: #00af00\">64</span>)                  │           <span style=\"color: #00af00; text-decoration-color: #00af00\">2,112</span> │\n",
              "├──────────────────────────────────────┼─────────────────────────────┼─────────────────┤\n",
              "│ dropout_1 (<span style=\"color: #0087ff; text-decoration-color: #0087ff\">Dropout</span>)                  │ (<span style=\"color: #00d7ff; text-decoration-color: #00d7ff\">None</span>, <span style=\"color: #00af00; text-decoration-color: #00af00\">64</span>)                  │               <span style=\"color: #00af00; text-decoration-color: #00af00\">0</span> │\n",
              "├──────────────────────────────────────┼─────────────────────────────┼─────────────────┤\n",
              "│ batch_normalization_1                │ (<span style=\"color: #00d7ff; text-decoration-color: #00d7ff\">None</span>, <span style=\"color: #00af00; text-decoration-color: #00af00\">64</span>)                  │             <span style=\"color: #00af00; text-decoration-color: #00af00\">256</span> │\n",
              "│ (<span style=\"color: #0087ff; text-decoration-color: #0087ff\">BatchNormalization</span>)                 │                             │                 │\n",
              "├──────────────────────────────────────┼─────────────────────────────┼─────────────────┤\n",
              "│ dense_2 (<span style=\"color: #0087ff; text-decoration-color: #0087ff\">Dense</span>)                      │ (<span style=\"color: #00d7ff; text-decoration-color: #00d7ff\">None</span>, <span style=\"color: #00af00; text-decoration-color: #00af00\">128</span>)                 │           <span style=\"color: #00af00; text-decoration-color: #00af00\">8,320</span> │\n",
              "├──────────────────────────────────────┼─────────────────────────────┼─────────────────┤\n",
              "│ dropout_2 (<span style=\"color: #0087ff; text-decoration-color: #0087ff\">Dropout</span>)                  │ (<span style=\"color: #00d7ff; text-decoration-color: #00d7ff\">None</span>, <span style=\"color: #00af00; text-decoration-color: #00af00\">128</span>)                 │               <span style=\"color: #00af00; text-decoration-color: #00af00\">0</span> │\n",
              "├──────────────────────────────────────┼─────────────────────────────┼─────────────────┤\n",
              "│ batch_normalization_2                │ (<span style=\"color: #00d7ff; text-decoration-color: #00d7ff\">None</span>, <span style=\"color: #00af00; text-decoration-color: #00af00\">128</span>)                 │             <span style=\"color: #00af00; text-decoration-color: #00af00\">512</span> │\n",
              "│ (<span style=\"color: #0087ff; text-decoration-color: #0087ff\">BatchNormalization</span>)                 │                             │                 │\n",
              "├──────────────────────────────────────┼─────────────────────────────┼─────────────────┤\n",
              "│ dense_3 (<span style=\"color: #0087ff; text-decoration-color: #0087ff\">Dense</span>)                      │ (<span style=\"color: #00d7ff; text-decoration-color: #00d7ff\">None</span>, <span style=\"color: #00af00; text-decoration-color: #00af00\">1</span>)                   │             <span style=\"color: #00af00; text-decoration-color: #00af00\">129</span> │\n",
              "└──────────────────────────────────────┴─────────────────────────────┴─────────────────┘\n",
              "</pre>\n"
            ]
          },
          "metadata": {}
        },
        {
          "output_type": "display_data",
          "data": {
            "text/plain": [
              "\u001b[1m Total params: \u001b[0m\u001b[38;5;34m12,257\u001b[0m (47.88 KB)\n"
            ],
            "text/html": [
              "<pre style=\"white-space:pre;overflow-x:auto;line-height:normal;font-family:Menlo,'DejaVu Sans Mono',consolas,'Courier New',monospace\"><span style=\"font-weight: bold\"> Total params: </span><span style=\"color: #00af00; text-decoration-color: #00af00\">12,257</span> (47.88 KB)\n",
              "</pre>\n"
            ]
          },
          "metadata": {}
        },
        {
          "output_type": "display_data",
          "data": {
            "text/plain": [
              "\u001b[1m Trainable params: \u001b[0m\u001b[38;5;34m11,809\u001b[0m (46.13 KB)\n"
            ],
            "text/html": [
              "<pre style=\"white-space:pre;overflow-x:auto;line-height:normal;font-family:Menlo,'DejaVu Sans Mono',consolas,'Courier New',monospace\"><span style=\"font-weight: bold\"> Trainable params: </span><span style=\"color: #00af00; text-decoration-color: #00af00\">11,809</span> (46.13 KB)\n",
              "</pre>\n"
            ]
          },
          "metadata": {}
        },
        {
          "output_type": "display_data",
          "data": {
            "text/plain": [
              "\u001b[1m Non-trainable params: \u001b[0m\u001b[38;5;34m448\u001b[0m (1.75 KB)\n"
            ],
            "text/html": [
              "<pre style=\"white-space:pre;overflow-x:auto;line-height:normal;font-family:Menlo,'DejaVu Sans Mono',consolas,'Courier New',monospace\"><span style=\"font-weight: bold\"> Non-trainable params: </span><span style=\"color: #00af00; text-decoration-color: #00af00\">448</span> (1.75 KB)\n",
              "</pre>\n"
            ]
          },
          "metadata": {}
        }
      ],
      "execution_count": 20
    },
    {
      "cell_type": "markdown",
      "source": [
        "###Compile the model"
      ],
      "metadata": {
        "id": "Ffw3qVvP8ZdJ"
      }
    },
    {
      "cell_type": "code",
      "source": [
        "model.compile(optimizer='adam',loss='binary_crossentropy',metrics=['accuracy'])\n",
        "print('model compiled')"
      ],
      "metadata": {
        "colab": {
          "base_uri": "https://localhost:8080/"
        },
        "id": "0YN1adTdW5By",
        "outputId": "19b07b7f-3dab-4011-c2f6-2961f5660c96",
        "trusted": true
      },
      "outputs": [
        {
          "output_type": "stream",
          "name": "stdout",
          "text": [
            "model compiled\n"
          ]
        }
      ],
      "execution_count": 21
    },
    {
      "cell_type": "code",
      "source": [
        "# set up early stopping and model checkpoint call backs and train the model.\n",
        "import warnings\n",
        "warnings.filterwarnings('ignore')\n",
        "\n",
        "from tensorflow.keras.callbacks import ModelCheckpoint\n",
        "from tensorflow.keras.callbacks import EarlyStopping\n",
        "early_stop=EarlyStopping(monitor='val_accuracy',mode='max',verbose=1,patience=10,min_delta=0.01)\n",
        "checkpoint=ModelCheckpoint('best_model.keras',monitor='val_accuracy',mode='max',verbose=1,save_best_only=True)\n",
        "history=model.fit(X_train,y_train,\n",
        "                  epochs=50,batch_size=250,\n",
        "                  validation_data=(X_test,y_test),\n",
        "                  callbacks=[early_stop,checkpoint])"
      ],
      "metadata": {
        "colab": {
          "base_uri": "https://localhost:8080/"
        },
        "id": "0KsiGlwnW7me",
        "outputId": "5382ad5c-b9ac-41df-e324-97f1657a247d",
        "trusted": true
      },
      "outputs": [
        {
          "output_type": "stream",
          "name": "stdout",
          "text": [
            "Epoch 1/50\n",
            "\u001b[1m1810/1810\u001b[0m \u001b[32m━━━━━━━━━━━━━━━━━━━━\u001b[0m\u001b[37m\u001b[0m \u001b[1m0s\u001b[0m 4ms/step - accuracy: 0.6214 - loss: 0.7628\n",
            "Epoch 1: val_accuracy improved from -inf to 0.65743, saving model to best_model.keras\n",
            "\u001b[1m1810/1810\u001b[0m \u001b[32m━━━━━━━━━━━━━━━━━━━━\u001b[0m\u001b[37m\u001b[0m \u001b[1m17s\u001b[0m 6ms/step - accuracy: 0.6214 - loss: 0.7628 - val_accuracy: 0.6574 - val_loss: 0.6399\n",
            "Epoch 2/50\n",
            "\u001b[1m1803/1810\u001b[0m \u001b[32m━━━━━━━━━━━━━━━━━━━\u001b[0m\u001b[37m━\u001b[0m \u001b[1m0s\u001b[0m 3ms/step - accuracy: 0.6554 - loss: 0.6373\n",
            "Epoch 2: val_accuracy improved from 0.65743 to 0.65922, saving model to best_model.keras\n",
            "\u001b[1m1810/1810\u001b[0m \u001b[32m━━━━━━━━━━━━━━━━━━━━\u001b[0m\u001b[37m\u001b[0m \u001b[1m13s\u001b[0m 4ms/step - accuracy: 0.6554 - loss: 0.6373 - val_accuracy: 0.6592 - val_loss: 0.6234\n",
            "Epoch 3/50\n",
            "\u001b[1m1803/1810\u001b[0m \u001b[32m━━━━━━━━━━━━━━━━━━━\u001b[0m\u001b[37m━\u001b[0m \u001b[1m0s\u001b[0m 2ms/step - accuracy: 0.6569 - loss: 0.6277\n",
            "Epoch 3: val_accuracy improved from 0.65922 to 0.66036, saving model to best_model.keras\n",
            "\u001b[1m1810/1810\u001b[0m \u001b[32m━━━━━━━━━━━━━━━━━━━━\u001b[0m\u001b[37m\u001b[0m \u001b[1m6s\u001b[0m 3ms/step - accuracy: 0.6569 - loss: 0.6277 - val_accuracy: 0.6604 - val_loss: 0.6213\n",
            "Epoch 4/50\n",
            "\u001b[1m1802/1810\u001b[0m \u001b[32m━━━━━━━━━━━━━━━━━━━\u001b[0m\u001b[37m━\u001b[0m \u001b[1m0s\u001b[0m 3ms/step - accuracy: 0.6574 - loss: 0.6259\n",
            "Epoch 4: val_accuracy did not improve from 0.66036\n",
            "\u001b[1m1810/1810\u001b[0m \u001b[32m━━━━━━━━━━━━━━━━━━━━\u001b[0m\u001b[37m\u001b[0m \u001b[1m7s\u001b[0m 4ms/step - accuracy: 0.6574 - loss: 0.6259 - val_accuracy: 0.6601 - val_loss: 0.6205\n",
            "Epoch 5/50\n",
            "\u001b[1m1800/1810\u001b[0m \u001b[32m━━━━━━━━━━━━━━━━━━━\u001b[0m\u001b[37m━\u001b[0m \u001b[1m0s\u001b[0m 2ms/step - accuracy: 0.6572 - loss: 0.6253\n",
            "Epoch 5: val_accuracy did not improve from 0.66036\n",
            "\u001b[1m1810/1810\u001b[0m \u001b[32m━━━━━━━━━━━━━━━━━━━━\u001b[0m\u001b[37m\u001b[0m \u001b[1m9s\u001b[0m 3ms/step - accuracy: 0.6572 - loss: 0.6253 - val_accuracy: 0.6593 - val_loss: 0.6219\n",
            "Epoch 6/50\n",
            "\u001b[1m1795/1810\u001b[0m \u001b[32m━━━━━━━━━━━━━━━━━━━\u001b[0m\u001b[37m━\u001b[0m \u001b[1m0s\u001b[0m 3ms/step - accuracy: 0.6575 - loss: 0.6255\n",
            "Epoch 6: val_accuracy improved from 0.66036 to 0.66173, saving model to best_model.keras\n",
            "\u001b[1m1810/1810\u001b[0m \u001b[32m━━━━━━━━━━━━━━━━━━━━\u001b[0m\u001b[37m\u001b[0m \u001b[1m6s\u001b[0m 3ms/step - accuracy: 0.6574 - loss: 0.6255 - val_accuracy: 0.6617 - val_loss: 0.6204\n",
            "Epoch 7/50\n",
            "\u001b[1m1802/1810\u001b[0m \u001b[32m━━━━━━━━━━━━━━━━━━━\u001b[0m\u001b[37m━\u001b[0m \u001b[1m0s\u001b[0m 2ms/step - accuracy: 0.6561 - loss: 0.6256\n",
            "Epoch 7: val_accuracy did not improve from 0.66173\n",
            "\u001b[1m1810/1810\u001b[0m \u001b[32m━━━━━━━━━━━━━━━━━━━━\u001b[0m\u001b[37m\u001b[0m \u001b[1m6s\u001b[0m 3ms/step - accuracy: 0.6561 - loss: 0.6256 - val_accuracy: 0.6598 - val_loss: 0.6204\n",
            "Epoch 8/50\n",
            "\u001b[1m1798/1810\u001b[0m \u001b[32m━━━━━━━━━━━━━━━━━━━\u001b[0m\u001b[37m━\u001b[0m \u001b[1m0s\u001b[0m 3ms/step - accuracy: 0.6561 - loss: 0.6258\n",
            "Epoch 8: val_accuracy did not improve from 0.66173\n",
            "\u001b[1m1810/1810\u001b[0m \u001b[32m━━━━━━━━━━━━━━━━━━━━\u001b[0m\u001b[37m\u001b[0m \u001b[1m6s\u001b[0m 4ms/step - accuracy: 0.6561 - loss: 0.6258 - val_accuracy: 0.6608 - val_loss: 0.6207\n",
            "Epoch 9/50\n",
            "\u001b[1m1804/1810\u001b[0m \u001b[32m━━━━━━━━━━━━━━━━━━━\u001b[0m\u001b[37m━\u001b[0m \u001b[1m0s\u001b[0m 5ms/step - accuracy: 0.6578 - loss: 0.6242\n",
            "Epoch 9: val_accuracy did not improve from 0.66173\n",
            "\u001b[1m1810/1810\u001b[0m \u001b[32m━━━━━━━━━━━━━━━━━━━━\u001b[0m\u001b[37m\u001b[0m \u001b[1m16s\u001b[0m 7ms/step - accuracy: 0.6578 - loss: 0.6242 - val_accuracy: 0.6614 - val_loss: 0.6220\n",
            "Epoch 10/50\n",
            "\u001b[1m1794/1810\u001b[0m \u001b[32m━━━━━━━━━━━━━━━━━━━\u001b[0m\u001b[37m━\u001b[0m \u001b[1m0s\u001b[0m 3ms/step - accuracy: 0.6577 - loss: 0.6242\n",
            "Epoch 10: val_accuracy did not improve from 0.66173\n",
            "\u001b[1m1810/1810\u001b[0m \u001b[32m━━━━━━━━━━━━━━━━━━━━\u001b[0m\u001b[37m\u001b[0m \u001b[1m14s\u001b[0m 3ms/step - accuracy: 0.6577 - loss: 0.6242 - val_accuracy: 0.6617 - val_loss: 0.6209\n",
            "Epoch 11/50\n",
            "\u001b[1m1796/1810\u001b[0m \u001b[32m━━━━━━━━━━━━━━━━━━━\u001b[0m\u001b[37m━\u001b[0m \u001b[1m0s\u001b[0m 2ms/step - accuracy: 0.6577 - loss: 0.6248\n",
            "Epoch 11: val_accuracy did not improve from 0.66173\n",
            "\u001b[1m1810/1810\u001b[0m \u001b[32m━━━━━━━━━━━━━━━━━━━━\u001b[0m\u001b[37m\u001b[0m \u001b[1m10s\u001b[0m 3ms/step - accuracy: 0.6577 - loss: 0.6248 - val_accuracy: 0.6612 - val_loss: 0.6213\n",
            "Epoch 11: early stopping\n"
          ]
        }
      ],
      "execution_count": 22
    },
    {
      "cell_type": "code",
      "source": [
        "score=model.evaluate(X_test,y_test)\n",
        "print('test loss',score[0])\n",
        "print('test accuracy',score[1])\n",
        "score=model.evaluate(X_train,y_train)\n",
        "print('train loss',score[0])\n",
        "print('train accuracy',score[1])"
      ],
      "metadata": {
        "colab": {
          "base_uri": "https://localhost:8080/"
        },
        "id": "tirBCIm3fY-G",
        "outputId": "53193b8e-9709-4fa1-daa8-70b212260022",
        "trusted": true
      },
      "outputs": [
        {
          "output_type": "stream",
          "name": "stdout",
          "text": [
            "\u001b[1m3534/3534\u001b[0m \u001b[32m━━━━━━━━━━━━━━━━━━━━\u001b[0m\u001b[37m\u001b[0m \u001b[1m9s\u001b[0m 2ms/step - accuracy: 0.6610 - loss: 0.6222\n",
            "test loss 0.6212575435638428\n",
            "test accuracy 0.6612425446510315\n",
            "\u001b[1m14135/14135\u001b[0m \u001b[32m━━━━━━━━━━━━━━━━━━━━\u001b[0m\u001b[37m\u001b[0m \u001b[1m32s\u001b[0m 2ms/step - accuracy: 0.6619 - loss: 0.6212\n",
            "train loss 0.621836245059967\n",
            "train accuracy 0.6608047485351562\n"
          ]
        }
      ],
      "execution_count": 23
    },
    {
      "cell_type": "code",
      "source": [
        "\n",
        "plt.figure(figsize=(10,6))\n",
        "# accuracy chart\n",
        "plt.subplot(1,2,1)\n",
        "plt.plot(history.history['accuracy'])\n",
        "plt.plot(history.history['val_accuracy'])\n",
        "plt.title('model accuracy')\n",
        "plt.ylabel('accuracy')\n",
        "plt.xlabel('epoch')\n",
        "plt.legend(['train','test'],loc='upper left')\n",
        "\n",
        "# loss chart\n",
        "plt.subplot(1,2,2)\n",
        "plt.plot(history.history['loss'])\n",
        "plt.plot(history.history['val_loss'])\n",
        "plt.title('model loss')\n",
        "plt.ylabel('loss')\n",
        "plt.xlabel('epoch')\n",
        "plt.legend(['train','test'],loc='upper right')\n",
        "plt.tight_layout()\n",
        "plt.show()"
      ],
      "metadata": {
        "colab": {
          "base_uri": "https://localhost:8080/",
          "height": 607
        },
        "id": "K796_KRxfx-v",
        "outputId": "96324475-43be-453a-b521-afaa18ddd593",
        "trusted": true
      },
      "outputs": [
        {
          "output_type": "display_data",
          "data": {
            "text/plain": [
              "<Figure size 1000x600 with 2 Axes>"
            ],
            "image/png": "[encoded data removed]"
          },
          "metadata": {}
        }
      ],
      "execution_count": 24
    },
    {
      "cell_type": "markdown",
      "source": [
        "##Metrics"
      ],
      "metadata": {
        "id": "JhLDfL21-H9P"
      }
    },
    {
      "cell_type": "code",
      "source": [
        "from sklearn.metrics import confusion_matrix,ConfusionMatrixDisplay,accuracy_score,classification_report\n",
        "import tensorflow as tf\n",
        "predictions = model.predict(X_test)"
      ],
      "metadata": {
        "colab": {
          "base_uri": "https://localhost:8080/"
        },
        "id": "MrMOigcW-QVy",
        "outputId": "325ec077-d98b-48d4-91e4-16d1fac8f398",
        "trusted": true
      },
      "outputs": [
        {
          "output_type": "stream",
          "name": "stdout",
          "text": [
            "\u001b[1m3534/3534\u001b[0m \u001b[32m━━━━━━━━━━━━━━━━━━━━\u001b[0m\u001b[37m\u001b[0m \u001b[1m6s\u001b[0m 2ms/step\n"
          ]
        }
      ],
      "execution_count": 25
    },
    {
      "cell_type": "code",
      "source": [
        "score = tf.nn.sigmoid(predictions).numpy()\n",
        "y_pred = []\n",
        "y_pred_proba = []\n",
        "for i in range(len(score)):\n",
        "  y_pred_proba.append(score[i])\n",
        "  if score[i] > 0.62:\n",
        "    y_pred.append(1)\n",
        "  else:\n",
        "    y_pred.append(0)"
      ],
      "metadata": {
        "id": "zv5hMDs5ALLa",
        "trusted": true
      },
      "outputs": [],
      "execution_count": 26
    },
    {
      "cell_type": "markdown",
      "source": [
        "###Confusion Matrix and Classification Report"
      ],
      "metadata": {
        "id": "xRnRBL2tICMM"
      }
    },
    {
      "cell_type": "code",
      "source": [
        "cm = confusion_matrix(y_test,y_pred)\n",
        "\n",
        "print('Confusion Matrix Displayed\\n')\n",
        "disp = ConfusionMatrixDisplay(confusion_matrix=cm, display_labels=['Paid','Defaulted'])\n",
        "disp.plot()\n",
        "plt.title('Confusion Matrix')\n",
        "plt.show()\n",
        "cl_report = classification_report(y_test,y_pred)\n",
        "print('Classification Report:')\n",
        "print(cl_report)\n",
        "\n"
      ],
      "metadata": {
        "colab": {
          "base_uri": "https://localhost:8080/",
          "height": 680
        },
        "id": "PPK7pBiOHv26",
        "outputId": "b2f5b1a7-cacf-4cfc-89e9-fb817b600d4b",
        "trusted": true
      },
      "outputs": [
        {
          "output_type": "stream",
          "name": "stdout",
          "text": [
            "Confusion Matrix Displayed\n",
            "\n"
          ]
        },
        {
          "output_type": "display_data",
          "data": {
            "text/plain": [
              "<Figure size 640x480 with 2 Axes>"
            ],
            "image/png": "[encoded data removed]"
          },
          "metadata": {}
        },
        {
          "output_type": "stream",
          "name": "stdout",
          "text": [
            "Classification Report:\n",
            "              precision    recall  f1-score   support\n",
            "\n",
            "           0       0.67      0.64      0.65     56798\n",
            "           1       0.65      0.69      0.67     56277\n",
            "\n",
            "    accuracy                           0.66    113075\n",
            "   macro avg       0.66      0.66      0.66    113075\n",
            "weighted avg       0.66      0.66      0.66    113075\n",
            "\n"
          ]
        }
      ],
      "execution_count": 27
    },
    {
      "cell_type": "markdown",
      "source": [
        "###Sensitivity"
      ],
      "metadata": {
        "id": "rQgEGegOJDLg"
      }
    },
    {
      "cell_type": "code",
      "source": [
        "# calculate sensitivity\n",
        "TN = cm[0][0]\n",
        "FP = cm[0][1]\n",
        "FN = cm[1][0]\n",
        "TP = cm[1][1]\n",
        "\n",
        "sensitivity = TP/(TP+FN)\n",
        "\n",
        "print(f'Sensitivity = {sensitivity:.4f}')"
      ],
      "metadata": {
        "colab": {
          "base_uri": "https://localhost:8080/"
        },
        "id": "AFNuKcxzJG6P",
        "outputId": "6d73c958-a06d-49bd-d2f7-506de931f67b",
        "trusted": true
      },
      "outputs": [
        {
          "output_type": "stream",
          "name": "stdout",
          "text": [
            "Sensitivity = 0.6866\n"
          ]
        }
      ],
      "execution_count": 28
    },
    {
      "cell_type": "markdown",
      "source": [
        "###ROC AUC curve"
      ],
      "metadata": {
        "id": "QbExrERgIfKV"
      }
    },
    {
      "cell_type": "code",
      "source": [
        "#ROC\n",
        "from sklearn.metrics import roc_curve,auc\n",
        "fpr,tpr,threshold = roc_curve(y_test, y_pred_proba)\n",
        "area_under_curve = auc(fpr,tpr)\n",
        "print('auc = {}\\n'.format(area_under_curve))\n",
        "plt.plot(fpr,tpr,label=f'ROC curve , AUC = {area_under_curve:.4f}')\n",
        "plt.plot([0,1],[0,1],linestyle='--',color='gray')\n",
        "plt.xlabel('FPR')\n",
        "plt.ylabel('TPR')\n",
        "title_ = 'ROC curve for various thresholds'\n",
        "plt.title(title_)\n",
        "plt.legend(loc = 'lower right')\n",
        "plt.show()\n"
      ],
      "metadata": {
        "colab": {
          "base_uri": "https://localhost:8080/",
          "height": 507
        },
        "id": "E66xLxJ2HsaF",
        "outputId": "29b12460-b7ba-42b5-ec75-ecdfe2088422",
        "trusted": true
      },
      "outputs": [
        {
          "output_type": "stream",
          "name": "stdout",
          "text": [
            "auc = 0.7177486110195008\n",
            "\n"
          ]
        },
        {
          "output_type": "display_data",
          "data": {
            "text/plain": [
              "<Figure size 640x480 with 1 Axes>"
            ],
            "image/png": "[encoded data removed]"
          },
          "metadata": {}
        }
      ],
      "execution_count": 29
    },
    {
      "cell_type": "markdown",
      "source": [
        "#Prediction using Random Forest Classifier"
      ],
      "metadata": {
        "id": "WRh7Gdqybvwe"
      }
    },
    {
      "cell_type": "code",
      "source": [
        "from sklearn.ensemble import RandomForestClassifier\n",
        "from sklearn.metrics import classification_report,accuracy_score\n",
        "rf=RandomForestClassifier()\n",
        "rf.fit(X_train,y_train)\n",
        "y_pred=rf.predict(X_test)\n",
        "print(accuracy_score(y_test,y_pred))"
      ],
      "metadata": {
        "id": "h7nSabYJkA4a",
        "trusted": true
      },
      "outputs": [],
      "execution_count": null
    },
    {
      "cell_type": "markdown",
      "source": [
        "###Confusion Matrix and Classification Report"
      ],
      "metadata": {
        "id": "aERE0NO-ezol"
      }
    },
    {
      "cell_type": "code",
      "source": [
        "from sklearn.metrics import confusion_matrix, ConfusionMatrixDisplay\n",
        "cm = confusion_matrix(y_test,y_pred)\n",
        "print('confusion matrix\\n',cm)\n",
        "display_labels = ['Not Defaulted(0)','Defaulted(1)']\n",
        "disp = ConfusionMatrixDisplay(confusion_matrix=cm,display_labels=display_labels)\n",
        "disp.plot()\n",
        "plt.title('Confusion Matrix using Random Forest Classifier')\n",
        "plt.show()\n",
        "print('Classification Report:')\n",
        "print(classification_report(y_test,y_pred))"
      ],
      "metadata": {
        "id": "pK7jGZXJe7_f",
        "trusted": true
      },
      "outputs": [],
      "execution_count": null
    },
    {
      "cell_type": "markdown",
      "source": [
        "###Sensitivity"
      ],
      "metadata": {
        "id": "WbtRnwCcLWMK"
      }
    },
    {
      "cell_type": "code",
      "source": [
        "# calculate sensitivity\n",
        "TN = cm[0][0]\n",
        "FP = cm[0][1]\n",
        "FN = cm[1][0]\n",
        "TP = cm[1][1]\n",
        "\n",
        "sensitivity = TP/(TP+FN)\n",
        "\n",
        "print(f'Sensitivity = {sensitivity:.4f}')"
      ],
      "metadata": {
        "id": "OBZW0rANr9a3",
        "trusted": true
      },
      "outputs": [],
      "execution_count": null
    },
    {
      "cell_type": "markdown",
      "source": [
        "##ROC-AUC Curve"
      ],
      "metadata": {
        "id": "uheJNogLeRj1"
      }
    },
    {
      "cell_type": "code",
      "source": [
        "#ROC\n",
        "from sklearn.metrics import roc_curve,auc\n",
        "\n",
        "y_pred_test_prob = rf.predict_proba(X_test)\n",
        "y_pred_proba=y_pred_test_prob[:,1]\n",
        "fpr,tpr,threshold = roc_curve(y_test, y_pred_proba)\n",
        "area_under_curve = auc(fpr,tpr)\n",
        "print('auc = {}\\n'.format(area_under_curve))\n",
        "plt.plot(fpr,tpr,label=f'ROC curve , AUC = {area_under_curve:.4f}')\n",
        "plt.plot([0,1],[0,1],linestyle='--',color='gray')\n",
        "plt.xlabel('FPR')\n",
        "plt.ylabel('TPR')\n",
        "title_ = 'ROC curve for various thresholds'\n",
        "plt.title(title_)\n",
        "plt.legend(loc = 'lower right')\n",
        "plt.show()\n"
      ],
      "metadata": {
        "id": "dIbhF7FjmkQ0",
        "trusted": true
      },
      "outputs": [],
      "execution_count": null
    },
    {
      "cell_type": "markdown",
      "source": [
        "**Conclusion**\n",
        "\n",
        "For structured input data, classical ML models seem to outperform deep learning models"
      ],
      "metadata": {
        "id": "qES8PUDHe6cP"
      }
    }
  ]
}